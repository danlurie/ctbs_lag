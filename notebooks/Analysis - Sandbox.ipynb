{
 "cells": [
  {
   "cell_type": "markdown",
   "metadata": {},
   "source": [
    "## A fun place to play!\n",
    "\n",
    "(Old stuff from 'Analysis - Minimal Preprocessing' that eventually needs to be cleaned up and moved back there."
   ]
  },
  {
   "cell_type": "code",
   "execution_count": null,
   "metadata": {
    "collapsed": false
   },
   "outputs": [],
   "source": [
    "print(str(stats.pearsonr(foo, bar)))\n",
    "sns.regplot(cbf_higher_lag_diff, cbf_higher_cbf_diff)\n",
    "plt.ylabel('Change in CBF at ROI')\n",
    "plt.xlabel('Change in Lag at ROI')"
   ]
  },
  {
   "cell_type": "code",
   "execution_count": null,
   "metadata": {
    "collapsed": false
   },
   "outputs": [],
   "source": [
    "cbf_lower = (cbf_diff <=0).values\n",
    "foo = cbf_diff[cbf_lower].values\n",
    "bar = lag_diff[cbf_lower].values"
   ]
  },
  {
   "cell_type": "code",
   "execution_count": null,
   "metadata": {
    "collapsed": false
   },
   "outputs": [],
   "source": [
    "## print(str(stats.pearsonr(np.absolute(cbf_diff), np.absolute(lag_diff))))\n",
    "sns.regplot(np.absolute(cbf_diff), np.absolute(lag_diff))\n",
    "plt.xlabel('Change in CBF at ROI')\n",
    "plt.ylabel('Change in Lag at ROI')"
   ]
  },
  {
   "cell_type": "code",
   "execution_count": null,
   "metadata": {
    "collapsed": false
   },
   "outputs": [],
   "source": [
    "sns.regplot(dists_df_fd['value'], dists_df_any['value'])\n",
    "plt.xlabel('Mean FD')\n",
    "plt.ylabel('% voxels > +/- 2s')"
   ]
  },
  {
   "cell_type": "code",
   "execution_count": null,
   "metadata": {
    "collapsed": false
   },
   "outputs": [],
   "source": [
    "g = sns.FacetGrid(rois_dflat_lag, col=\"roi\", size=3, aspect=1, legend_out=False)\n",
    "g.map(sns.swarmplot, \"scan\", \"value\", palette=\"Set2\");\n",
    "g.add_legend()\n",
    "g.set_ylabels('Mean lag within ROI')"
   ]
  },
  {
   "cell_type": "code",
   "execution_count": null,
   "metadata": {
    "collapsed": false
   },
   "outputs": [],
   "source": [
    "sns.FacetGrid("
   ]
  },
  {
   "cell_type": "code",
   "execution_count": null,
   "metadata": {
    "collapsed": false
   },
   "outputs": [],
   "source": [
    "g = sns.FacetGrid(rois_dflat_cbf_all, col=\"roi\", size=3, aspect=1, legend_out=False)\n",
    "g.map(sns.swarmplot, \"scan\", \"value\", palette=\"Set2\");\n",
    "g.add_legend()\n",
    "g.set_ylabels('Mean CBF within ROI')"
   ]
  },
  {
   "cell_type": "code",
   "execution_count": null,
   "metadata": {
    "collapsed": false,
    "scrolled": true
   },
   "outputs": [],
   "source": [
    "print(str(stats.pearsonr(rois_dflat_cbf_all['value'], rois_dflat_lag_all['value'])))\n",
    "sns.regplot(rois_dflat_cbf_all['value'], rois_dflat_lag_all['value'])\n",
    "plt.xlabel('Mean CBF at ROI')\n",
    "plt.ylabel('Mean Lag at ROI')"
   ]
  },
  {
   "cell_type": "code",
   "execution_count": null,
   "metadata": {
    "collapsed": false,
    "scrolled": true
   },
   "outputs": [],
   "source": [
    "print(str(stats.pearsonr(rois_dflat_cbf_pre['value'], rois_dflat_lag_pre['value'])))\n",
    "sns.regplot(rois_dflat_cbf_pre['value'], rois_dflat_lag_pre['value'])\n",
    "plt.xlabel('Mean CBF at ROI')\n",
    "plt.ylabel('Mean Lag at ROI')"
   ]
  },
  {
   "cell_type": "code",
   "execution_count": null,
   "metadata": {
    "collapsed": false,
    "scrolled": true
   },
   "outputs": [],
   "source": [
    "print(str(stats.pearsonr(rois_dflat_cbf_dlpfc['value'], rois_dflat_lag_dlpfc['value'])))\n",
    "sns.regplot(rois_dflat_cbf_dlpfc['value'], rois_dflat_lag_dlpfc['value'])\n",
    "plt.xlabel('Mean CBF at ROI')\n",
    "plt.ylabel('Mean Lag at ROI')"
   ]
  },
  {
   "cell_type": "code",
   "execution_count": null,
   "metadata": {
    "collapsed": false,
    "scrolled": true
   },
   "outputs": [],
   "source": [
    "g = sns.FacetGrid(rois_dflat_cbf, col=\"sub_id\", size=2.7, aspect=.5, col_wrap=9, legend_out=False)\n",
    "g.map(sns.pointplot, \"scan\", \"value\", 'roi', linewidth=5, palette=\"Set2\",);\n",
    "g.add_legend()\n",
    "g.set_ylabels('Mean lag within ROI')"
   ]
  },
  {
   "cell_type": "code",
   "execution_count": null,
   "metadata": {
    "collapsed": false
   },
   "outputs": [],
   "source": [
    "sns.set_context(rc={\"lines.linewidth\": 0.75})"
   ]
  },
  {
   "cell_type": "code",
   "execution_count": null,
   "metadata": {
    "collapsed": false,
    "scrolled": true
   },
   "outputs": [],
   "source": [
    "g = sns.FacetGrid(under_coil_dflat, col=\"sub_id\", size=2.7, aspect=.5, col_wrap=9, legend_out=False)\n",
    "g.map(sns.pointplot, \"scan\", \"mean_lag_at_roi\", 'roi', linewidth=5, palette=\"Set2\",);\n",
    "g.add_legend()\n",
    "g.set_ylabels('Mean lag within ROI')"
   ]
  },
  {
   "cell_type": "markdown",
   "metadata": {},
   "source": [
    "### Load and resample CBF images."
   ]
  },
  {
   "cell_type": "code",
   "execution_count": null,
   "metadata": {
    "collapsed": false
   },
   "outputs": [],
   "source": [
    "aifo_rest1_mean_cbf_paths = ['/home/despo/cgratton/data/MegaRest.TMS/Data/{}_Aifo/Analysis/ASL_new/Block01/mask_files/norm_scCBF_timeseries_mask.nii.gz'.format(str(sub_id)) for sub_id in subject_list]\n",
    "aifo_rest2_mean_cbf_paths = ['/home/despo/cgratton/data/MegaRest.TMS/Data/{}_Aifo/Analysis/ASL_new/Block02/mask_files/norm_scCBF_timeseries_mask.nii.gz'.format(str(sub_id)) for sub_id in subject_list]\n",
    "aifo_rest3_mean_cbf_paths = ['/home/despo/cgratton/data/MegaRest.TMS/Data/{}_Aifo/Analysis/ASL_new/Block03/mask_files/norm_scCBF_timeseries_mask.nii.gz'.format(str(sub_id)) for sub_id in subject_list]\n",
    "\n",
    "dlpfc_rest1_mean_cbf_paths = ['/home/despo/cgratton/data/MegaRest.TMS/Data/{}_Dlpfc/Analysis/ASL_new/Block01/mask_files/norm_scCBF_timeseries_mask.nii.gz'.format(str(sub_id)) for sub_id in subject_list]\n",
    "dlpfc_rest2_mean_cbf_paths = ['/home/despo/cgratton/data/MegaRest.TMS/Data/{}_Dlpfc/Analysis/ASL_new/Block02/mask_files/norm_scCBF_timeseries_mask.nii.gz'.format(str(sub_id)) for sub_id in subject_list]\n",
    "dlpfc_rest3_mean_cbf_paths = ['/home/despo/cgratton/data/MegaRest.TMS/Data/{}_Dlpfc/Analysis/ASL_new/Block03/mask_files/norm_scCBF_timeseries_mask.nii.gz'.format(str(sub_id)) for sub_id in subject_list]\n",
    "\n",
    "sham_rest1_mean_cbf_paths = ['/home/despo/cgratton/data/MegaRest.TMS/Data/{}_Sham/Analysis/ASL_new/Block01/mask_files/norm_scCBF_timeseries_mask.nii.gz'.format(str(sub_id)) for sub_id in subject_list]\n",
    "sham_rest2_mean_cbf_paths = ['/home/despo/cgratton/data/MegaRest.TMS/Data/{}_Sham/Analysis/ASL_new/Block02/mask_files/norm_scCBF_timeseries_mask.nii.gz'.format(str(sub_id)) for sub_id in subject_list]\n",
    "sham_rest3_mean_cbf_paths = ['/home/despo/cgratton/data/MegaRest.TMS/Data/{}_Sham/Analysis/ASL_new/Block03/mask_files/norm_scCBF_timeseries_mask.nii.gz'.format(str(sub_id)) for sub_id in subject_list]"
   ]
  },
  {
   "cell_type": "markdown",
   "metadata": {
    "collapsed": false
   },
   "source": [
    "### Check for motion confound"
   ]
  },
  {
   "cell_type": "code",
   "execution_count": null,
   "metadata": {
    "collapsed": false
   },
   "outputs": [],
   "source": [
    "sub101_fd = compute_FD('/home/despo/dlurie/Projects/megarest_lag/data/sub102/Aifo/sub102_Aifo_rest_1_motion_params.txt', 'degrees')"
   ]
  },
  {
   "cell_type": "code",
   "execution_count": null,
   "metadata": {
    "collapsed": false
   },
   "outputs": [],
   "source": [
    "np.mean(sub101_fd)"
   ]
  },
  {
   "cell_type": "code",
   "execution_count": null,
   "metadata": {
    "collapsed": false
   },
   "outputs": [],
   "source": [
    "mp_test['Dmotion'][0][0].shape"
   ]
  },
  {
   "cell_type": "code",
   "execution_count": null,
   "metadata": {
    "collapsed": false
   },
   "outputs": [],
   "source": [
    "mp_test.keys()"
   ]
  },
  {
   "cell_type": "code",
   "execution_count": null,
   "metadata": {
    "collapsed": false
   },
   "outputs": [],
   "source": [
    "np.io.('/home/despo/arielle/megarest_sc/data/motion_params/101/motion_info_Aifo_FD_thr0.2.mat')"
   ]
  },
  {
   "cell_type": "code",
   "execution_count": null,
   "metadata": {
    "collapsed": false
   },
   "outputs": [],
   "source": [
    "plotting.plot_stat_map('/home/despo/dlurie/Projects/megarest_lag/analysis/sub110/Aifo/sub110_Aifo_minimal_r2minusr1_diffmap_smoothed5.nii.gz'\n",
    "                       , bg_img=None, display_mode='z', black_bg=True)"
   ]
  },
  {
   "cell_type": "code",
   "execution_count": null,
   "metadata": {
    "collapsed": true
   },
   "outputs": [],
   "source": []
  },
  {
   "cell_type": "markdown",
   "metadata": {},
   "source": [
    "### TO CLEAN- Plot changes in extreme leads/lags"
   ]
  },
  {
   "cell_type": "code",
   "execution_count": null,
   "metadata": {
    "collapsed": false
   },
   "outputs": [],
   "source": [
    "def count_extremes(sub_data, thresh):\n",
    "    n_nonzero = np.count_nonzero(sub_data)\n",
    "    n_greater = np.count_nonzero(sub_data <= -thresh)\n",
    "    n_lesser = np.count_nonzero(sub_data >= thresh)\n",
    "    pct_lead = np.true_divide(n_greater, n_nonzero)\n",
    "    pct_lag = np.true_divide(n_lesser, n_nonzero)\n",
    "    return pct_lead, pct_lag"
   ]
  },
  {
   "cell_type": "code",
   "execution_count": null,
   "metadata": {
    "collapsed": true
   },
   "outputs": [],
   "source": [
    "def compute_FD(file, units):\n",
    "    \"\"\"\n",
    "\n",
    "    :rtype: object\n",
    "    \"\"\"\n",
    "    import numpy as np\n",
    "\n",
    "    if units == 'radians' or units == 'Radians':\n",
    "        factor = 1\n",
    "    elif units == 'degrees' or units == 'Degrees':\n",
    "        factor = (np.pi / 180) * 50\n",
    "\n",
    "    MP = np.loadtxt(file)\n",
    "    AbsMotDiff = abs(np.diff(MP, axis=0))\n",
    "\n",
    "    Trans = AbsMotDiff[:, 0:3]\n",
    "    Rot = AbsMotDiff[:, 3:6]\n",
    "    FD = np.sum(Trans, axis=1) + np.sum(factor * Rot, axis=1)\n",
    "\n",
    "    return FD"
   ]
  },
  {
   "cell_type": "code",
   "execution_count": null,
   "metadata": {
    "collapsed": false
   },
   "outputs": [],
   "source": [
    "roi_list = ['aifo', 'dlpfc', 's1']\n",
    "scan_list = ['rest1', 'rest2', 'rest3']\n",
    "measures = ['pct_big_lead', 'pct_big_lag', 'pct_big_any', 'mean_fd', 'mean_lag']\n",
    "\n",
    "row_store = []\n",
    "for subject in subject_list:\n",
    "    for roi in roi_list:\n",
    "        for scan in scan_list:\n",
    "            for measure in measures:\n",
    "                row = [str(subject), roi, scan, measure]\n",
    "                row_store.append(row)\n",
    "\n",
    "dists_df_mindex = pd.MultiIndex.from_arrays(np.array(row_store).T, names=['sub_id', 'roi', 'scan', 'measure'])\n",
    "dists_dframe = pd.DataFrame(index=dists_df_mindex)\n",
    "dists_dframe['value'] = np.nan"
   ]
  },
  {
   "cell_type": "code",
   "execution_count": null,
   "metadata": {
    "collapsed": false
   },
   "outputs": [],
   "source": [
    "input_arrays =[[aifo_rest1_gm_data, 'aifo', 'rest1', 'Aifo', 'rest_1'],\n",
    "               [aifo_rest2_gm_data, 'aifo', 'rest2', 'Aifo', 'rest_2'],\n",
    "               [aifo_rest3_gm_data, 'aifo', 'rest3', 'Aifo', 'rest_3'],\n",
    "               [dlpfc_rest1_gm_data, 'dlpfc', 'rest1', 'Dlpfc', 'rest_1'],\n",
    "               [dlpfc_rest2_gm_data, 'dlpfc', 'rest2', 'Dlpfc', 'rest_2'],\n",
    "               [dlpfc_rest3_gm_data, 'dlpfc', 'rest3', 'Dlpfc', 'rest_3'],\n",
    "               [sham_rest1_gm_data, 's1', 'rest1', 'Sham', 'rest_1'],\n",
    "               [sham_rest2_gm_data, 's1', 'rest2', 'Sham', 'rest_2'],\n",
    "               [sham_rest3_gm_data, 's1', 'rest3', 'Sham', 'rest_3']]\n",
    "\n",
    "for sub_array in input_arrays:\n",
    "    data_array = sub_array[0]\n",
    "    roi = sub_array[1]\n",
    "    scan = sub_array[2]\n",
    "    condition = sub_array[3]\n",
    "    scan_name = sub_array[4]\n",
    "    for idx, sub_id in enumerate(subject_list):\n",
    "        sub_id = str(sub_id)\n",
    "        counts = count_extremes(data_array[idx], 1)\n",
    "        dists_dframe.ix[sub_id, roi, scan, 'pct_big_lead'] = counts[0]\n",
    "        dists_dframe.ix[sub_id, roi, scan, 'pct_big_lag'] = counts[1]\n",
    "        dists_dframe.ix[sub_id, roi, scan, 'pct_big_any'] = counts[0] + counts[1]\n",
    "        scan_fd_array = compute_FD('/home/despo/dlurie/Projects/megarest_lag/data/sub{0}/{1}/sub{0}_{1}_{2}_motion_params.txt'.format(sub_id, condition, scan_name), 'degrees')\n",
    "        dists_dframe.ix[sub_id, roi, scan, 'mean_fd'] = np.mean(scan_fd_array)\n",
    "        dists_dframe.ix[sub_id, roi, scan, 'mean_lag'] = np.mean(data_array[idx])"
   ]
  },
  {
   "cell_type": "code",
   "execution_count": null,
   "metadata": {
    "collapsed": false
   },
   "outputs": [],
   "source": [
    "dists_dflat = dists_dframe.reset_index()\n",
    "dists_df_leads = dists_dflat[dists_dflat['measure'] == 'pct_big_lead']\n",
    "dists_df_lags = dists_dflat[dists_dflat['measure'] == 'pct_big_lag']\n",
    "dists_df_any = dists_dflat[dists_dflat['measure'] == 'pct_big_any']\n",
    "dists_df_fd = dists_dflat[dists_dflat['measure'] == 'mean_fd']\n",
    "dists_df_mean = dists_dflat[dists_dflat['measure'] == 'mean_lag']"
   ]
  },
  {
   "cell_type": "code",
   "execution_count": null,
   "metadata": {
    "collapsed": true
   },
   "outputs": [],
   "source": [
    "g = sns.FacetGrid(dists_df_mean, col=\"roi\", size=3, aspect=1, legend_out=False)\n",
    "g.map(sns.swarmplot, \"scan\", \"value\", palette=\"Set2\");\n",
    "g.add_legend()\n",
    "g.set_ylabels('Mean lag')"
   ]
  },
  {
   "cell_type": "code",
   "execution_count": null,
   "metadata": {
    "collapsed": true
   },
   "outputs": [],
   "source": []
  },
  {
   "cell_type": "code",
   "execution_count": null,
   "metadata": {
    "collapsed": false
   },
   "outputs": [],
   "source": [
    "stats.f_oneway(dists_df_mean[(dists_df_mean['scan']=='rest1') & (dists_df_mean['roi']=='aifo')]['value'],\n",
    "               dists_df_mean[(dists_df_mean['scan']=='rest2') & (dists_df_mean['roi']=='aifo')]['value'],\n",
    "               dists_df_mean[(dists_df_mean['scan']=='rest3') & (dists_df_mean['roi']=='aifo')]['value'])"
   ]
  },
  {
   "cell_type": "code",
   "execution_count": null,
   "metadata": {
    "collapsed": true
   },
   "outputs": [],
   "source": [
    "g = sns.FacetGrid(dists_df_mean, col=\"sub_id\", size=2.7, aspect=.5, col_wrap=9, legend_out=False)\n",
    "g.map(sns.pointplot, \"scan\", \"value\", 'roi', palette=\"Set2\");\n",
    "g.add_legend()\n",
    "g.set_ylabels('Mean lag')"
   ]
  },
  {
   "cell_type": "markdown",
   "metadata": {},
   "source": [
    "#### Percent of voxels with lead > 2s"
   ]
  },
  {
   "cell_type": "code",
   "execution_count": null,
   "metadata": {
    "collapsed": true
   },
   "outputs": [],
   "source": [
    "g = sns.FacetGrid(dists_df_leads, col=\"roi\", size=3, aspect=1, legend_out=False)\n",
    "g.map(sns.swarmplot, \"scan\", \"value\", palette=\"Set2\");\n",
    "g.add_legend()\n",
    "g.set_ylabels('% vox w/ lead > 2s')"
   ]
  },
  {
   "cell_type": "code",
   "execution_count": null,
   "metadata": {
    "collapsed": false
   },
   "outputs": [],
   "source": [
    "stats.f_oneway(dists_df_leads[(dists_df_leads['scan']=='rest1') & (dists_df_leads['roi']=='aifo')]['value'],\n",
    "               dists_df_leads[(dists_df_leads['scan']=='rest2') & (dists_df_leads['roi']=='aifo')]['value'],\n",
    "               dists_df_leads[(dists_df_leads['scan']=='rest3') & (dists_df_leads['roi']=='aifo')]['value'])"
   ]
  },
  {
   "cell_type": "code",
   "execution_count": null,
   "metadata": {
    "collapsed": true
   },
   "outputs": [],
   "source": [
    "g = sns.FacetGrid(dists_df_leads, col=\"sub_id\", size=3, aspect=1, col_wrap=4, legend_out=False)\n",
    "g.map(sns.pointplot, \"scan\", \"value\", 'roi', palette=\"Set2\");\n",
    "g.add_legend()"
   ]
  },
  {
   "cell_type": "markdown",
   "metadata": {},
   "source": [
    "#### Percent of voxels with lags > 2s"
   ]
  },
  {
   "cell_type": "code",
   "execution_count": null,
   "metadata": {
    "collapsed": false,
    "scrolled": true
   },
   "outputs": [],
   "source": [
    "g = sns.FacetGrid(dists_df_lags, col=\"roi\", size=3, aspect=1, legend_out=False)\n",
    "g.map(sns.swarmplot, \"scan\", \"value\", palette=\"Set2\");\n",
    "g.add_legend()"
   ]
  },
  {
   "cell_type": "code",
   "execution_count": null,
   "metadata": {
    "collapsed": false
   },
   "outputs": [],
   "source": [
    "stats.f_oneway(dists_df_lags[(dists_df_lags['scan']=='rest1') & (dists_df_lags['roi']=='aifo')]['value'],\n",
    "               dists_df_lags[(dists_df_lags['scan']=='rest2') & (dists_df_lags['roi']=='aifo')]['value'],\n",
    "               dists_df_lags[(dists_df_lags['scan']=='rest3') & (dists_df_lags['roi']=='aifo')]['value'])"
   ]
  },
  {
   "cell_type": "code",
   "execution_count": null,
   "metadata": {
    "collapsed": false,
    "scrolled": true
   },
   "outputs": [],
   "source": [
    "g = sns.FacetGrid(dists_df_lags, col=\"sub_id\", size=3, aspect=1, col_wrap=4, legend_out=False)\n",
    "g.map(sns.pointplot, \"scan\", \"value\", 'roi', palette=\"Set2\");\n",
    "g.add_legend()"
   ]
  },
  {
   "cell_type": "markdown",
   "metadata": {},
   "source": [
    "#### Percent of voxels with leads or lags > 2s"
   ]
  },
  {
   "cell_type": "code",
   "execution_count": null,
   "metadata": {
    "collapsed": false,
    "scrolled": true
   },
   "outputs": [],
   "source": [
    "g = sns.FacetGrid(dists_df_any, col=\"roi\", size=3, aspect=1, legend_out=False)\n",
    "g.map(sns.swarmplot, \"scan\", \"value\", palette=\"Set2\");\n",
    "g.add_legend()\n",
    "g.set_ylabels('% vox w/ lead or lag > 2s')"
   ]
  },
  {
   "cell_type": "code",
   "execution_count": null,
   "metadata": {
    "collapsed": false
   },
   "outputs": [],
   "source": [
    "stats.f_oneway(dists_df_any[(dists_df_any['scan']=='rest1') & (dists_df_any['roi']=='aifo')]['value'],\n",
    "               dists_df_any[(dists_df_any['scan']=='rest2') & (dists_df_any['roi']=='aifo')]['value'],\n",
    "               dists_df_any[(dists_df_any['scan']=='rest3') & (dists_df_any['roi']=='aifo')]['value'])"
   ]
  },
  {
   "cell_type": "code",
   "execution_count": null,
   "metadata": {
    "collapsed": false,
    "scrolled": true
   },
   "outputs": [],
   "source": [
    "g = sns.FacetGrid(dists_df_any, col=\"sub_id\", size=2.7, aspect=.5, col_wrap=9, legend_out=False)\n",
    "g.map(sns.pointplot, \"scan\", \"value\", 'roi', palette=\"Set2\");\n",
    "g.add_legend()\n",
    "g.set_ylabels('% vox w/ lead or lag > 2s')"
   ]
  },
  {
   "cell_type": "code",
   "execution_count": null,
   "metadata": {
    "collapsed": false,
    "scrolled": true
   },
   "outputs": [],
   "source": [
    "print(str(stats.pearsonr(dists_df_fd['value'], dists_df_any['value'])))\n",
    "sns.regplot(dists_df_fd['value'], dists_df_any['value'])\n",
    "plt.xlabel('Mean FD')\n",
    "plt.ylabel('% voxels > +/- 2s')"
   ]
  },
  {
   "cell_type": "code",
   "execution_count": null,
   "metadata": {
    "collapsed": false,
    "scrolled": true
   },
   "outputs": [],
   "source": [
    "sns.regplot(dists_df_fd['value'], dists_df_mean['value'], fit_reg=True)\n",
    "plt.xlabel('Mean FD')\n",
    "plt.ylabel('Mean Lag')"
   ]
  },
  {
   "cell_type": "code",
   "execution_count": null,
   "metadata": {
    "collapsed": false
   },
   "outputs": [],
   "source": [
    "len(subject_list)"
   ]
  },
  {
   "cell_type": "code",
   "execution_count": null,
   "metadata": {
    "collapsed": true
   },
   "outputs": [],
   "source": [
    "## MAY BE LEGACY\n",
    "\n",
    "def get_gm_data(image_stack):\n",
    "    data_array = []\n",
    "    for i in image_stack:\n",
    "        i_data = i.get_data().ravel()\n",
    "        i_data = i_data[i_data.nonzero()]\n",
    "        data_array.append(i_data)\n",
    "    return data_array"
   ]
  },
  {
   "cell_type": "markdown",
   "metadata": {},
   "source": [
    "### Generate and save lag difference maps (post1 - baseline)"
   ]
  },
  {
   "cell_type": "code",
   "execution_count": null,
   "metadata": {
    "collapsed": false
   },
   "outputs": [],
   "source": [
    "def make_difference_imgs(pre_stack, post_stack):\n",
    "    img_diffs = []\n",
    "    for idx, pre_img in enumerate(pre_stack):\n",
    "        diff_img = image.math_img('np.subtract(img2, img1)', img2=post_stack[idx], img1=pre_img)\n",
    "        img_diffs.append(diff_img)\n",
    "    return img_diffs"
   ]
  },
  {
   "cell_type": "code",
   "execution_count": null,
   "metadata": {
    "collapsed": false
   },
   "outputs": [],
   "source": [
    "diff_maps = {}\n",
    "for stim_site in regions:\n",
    "    baseline_maps = lag_maps['_'.join([stim_site[0], 'baseline'])]\n",
    "    post1_maps = lag_maps['_'.join([stim_site[0], 'post1'])]\n",
    "    diff_maps[stim_site[0]] = make_difference_imgs(baseline_maps, post1_maps)"
   ]
  },
  {
   "cell_type": "code",
   "execution_count": null,
   "metadata": {
    "collapsed": true
   },
   "outputs": [],
   "source": [
    "def save_diff_images(diff_img_array, subject_list, condition):\n",
    "    for idx, sub_id in enumerate(subject_list):\n",
    "        out_path = '/home/despo/dlurie/Projects/megarest_lag/analysis/sub{0}/{1}/sub{0}_{1}_minimal_r2minusr1_diffmap.nii.gz'.format(str(sub_id), condition)\n",
    "        nb.save(diff_img_array[idx], out_path)\n",
    "        out_path_smoothed = '/home/despo/dlurie/Projects/megarest_lag/analysis/sub{0}/{1}/sub{0}_{1}_minimal_r2minusr1_diffmap_smoothed5.nii.gz'.format(str(sub_id), condition)\n",
    "        smoothed_img = image.smooth_img(diff_img_array[idx], 5)\n",
    "        nb.save(smoothed_img, out_path_smoothed)"
   ]
  },
  {
   "cell_type": "code",
   "execution_count": null,
   "metadata": {
    "collapsed": true
   },
   "outputs": [],
   "source": [
    "diff_maps = {}\n",
    "for stim_site in regions:\n",
    "    save_diff_images(diff_maps[stim_site[0]], subject_list, stim_site[1])"
   ]
  },
  {
   "cell_type": "markdown",
   "metadata": {},
   "source": [
    "### Plot Lag Distributions (per subject)"
   ]
  },
  {
   "cell_type": "code",
   "execution_count": null,
   "metadata": {
    "collapsed": true
   },
   "outputs": [],
   "source": [
    "def dist_grid(data_1, data_2, data_3, subject_list, n_cols, title):\n",
    "    \"\"\"\n",
    "    For each subject, plot the distribution of 3 variables. Arrange subplots as a grid\n",
    "    \"\"\"\n",
    "    # Set up the grid\n",
    "    n_subs = len(subject_list)\n",
    "    n_rows = int(np.ceil(n_subs/(float(n_cols))))\n",
    "    \n",
    "    # Set up the plot axes\n",
    "    ax_idx_x= []\n",
    "    ax_idx_y= []\n",
    "    for idx_x in range(n_rows):\n",
    "        for idx_y in range(n_cols):\n",
    "            ax_idx_y.append(idx_y)\n",
    "            ax_idx_x.append(idx_x)\n",
    "            \n",
    "    # Define variable/color/label pairings\n",
    "    colors = ['orangered', 'darkorchid', 'deepskyblue']\n",
    "    labels = ['Baseline', 'Post 1', 'Post 2']\n",
    "    variables = zip([data_1, data_2, data_3], colors, labels)\n",
    "    \n",
    "    # Initialize the figure\n",
    "    f, axarr = plt.subplots(n_rows, n_cols, sharex=True, sharey=True, figsize=(13,2*n_rows))\n",
    "    \n",
    "    # Create a subplot for each subject\n",
    "    for idx, sub_id in enumerate(subject_list):\n",
    "        # Loop through variables\n",
    "        for var in variables:\n",
    "            sns.distplot(var[0][idx], kde=False, hist=True, color=var[1], norm_hist=True,\n",
    "                         ax=axarr[ax_idx_x[idx], ax_idx_y[idx]], label=var[2],\n",
    "                         hist_kws={'histtype': \"step\", 'alpha': 1, 'linewidth': 1})\n",
    "        axarr[ax_idx_x[idx], ax_idx_y[idx]].legend()\n",
    "        axarr[ax_idx_x[idx], ax_idx_y[idx]].set_yscale('log')\n",
    "        axarr[ax_idx_x[idx], ax_idx_y[idx]].set_title('Subject '+str(sub_id), fontsize=10)\n",
    "    plt.xlim(-10, 10)\n",
    "    plt.suptitle(title, y=1.01, fontsize=18)\n",
    "    plt.tight_layout()"
   ]
  },
  {
   "cell_type": "markdown",
   "metadata": {},
   "source": [
    "#### AiFO"
   ]
  },
  {
   "cell_type": "code",
   "execution_count": null,
   "metadata": {
    "collapsed": false,
    "scrolled": true
   },
   "outputs": [],
   "source": [
    "dist_grid(lag_maps_gmonly['aifo_baseline'], lag_maps_gmonly['aifo_post1'], lag_maps_gmonly['aifo_post2'],\n",
    "          subject_list, 3, \"Whole-Brain Lag Distribution (aIfO Stimulation)\")"
   ]
  },
  {
   "cell_type": "markdown",
   "metadata": {},
   "source": [
    "#### dlPFC"
   ]
  },
  {
   "cell_type": "code",
   "execution_count": null,
   "metadata": {
    "collapsed": false,
    "scrolled": true
   },
   "outputs": [],
   "source": [
    "dist_grid(lag_maps_gmonly['dlpfc_baseline'], lag_maps_gmonly['dlpfc_post1'], lag_maps_gmonly['dlpfc_post2'],\n",
    "          subject_list, 3, \"Whole-Brain Lag Distribution (dlPFC Stimulation)\")"
   ]
  },
  {
   "cell_type": "markdown",
   "metadata": {},
   "source": [
    "#### S1"
   ]
  },
  {
   "cell_type": "code",
   "execution_count": null,
   "metadata": {
    "collapsed": false,
    "scrolled": true
   },
   "outputs": [],
   "source": [
    "dist_grid(lag_maps_gmonly['s1_baseline'], lag_maps_gmonly['s1_post1'], lag_maps_gmonly['s1_post2'],\n",
    "          subject_list, 3, \"Whole-Brain Lag Distribution (S1 Stimulation)\")"
   ]
  }
 ],
 "metadata": {
  "kernelspec": {
   "display_name": "Python [Root]",
   "language": "python",
   "name": "Python [Root]"
  },
  "language_info": {
   "codemirror_mode": {
    "name": "ipython",
    "version": 2
   },
   "file_extension": ".py",
   "mimetype": "text/x-python",
   "name": "python",
   "nbconvert_exporter": "python",
   "pygments_lexer": "ipython2",
   "version": "2.7.12"
  }
 },
 "nbformat": 4,
 "nbformat_minor": 0
}
