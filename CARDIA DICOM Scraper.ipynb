{
 "cells": [
  {
   "cell_type": "code",
   "execution_count": 49,
   "metadata": {
    "collapsed": false
   },
   "outputs": [],
   "source": [
    "import dicom\n",
    "import os\n",
    "import sys\n",
    "import pandas as pd\n",
    "import numpy as np\n",
    "import glob\n",
    "import re\n",
    "\n",
    "# Define scraper function.\n",
    "def get_dcm_info(scan_dir, temp_path):\n",
    "    # Set parameters to scrape from common header fields (and how they should be labeled).\n",
    "    params_dict = {'scan_date': 'AcquisitionDate','scanner_institution':'InstitutionName',\n",
    "                   'scanner_manufacturer':'Manufacturer','scanner_model':'ManufacturerModelName',\n",
    "                   'field_strength':'MagneticFieldStrength','sequence_name':'SequenceName',\n",
    "                   'repetition_time':'RepetitionTime','echo_time':'EchoTime','flip_angle':'FlipAngle',\n",
    "                   'pixel_spacing':'PixelSpacing','slice_thickness':'SliceThickness',\n",
    "                   'slice_spacing':'SpacingBetweenSlices','matrix_size':'AcquisitionMatrix'}\n",
    "    # Set parameters to scrape from Siemens CSA header fields.\n",
    "    csa_dict = {'n_slices':[0x19, 0x100a],'field_of_view':[0x51, 0x100c]}\n",
    "    # Get a list of image files in the scan directory.\n",
    "    img_list = os.listdir(scan_dir)\n",
    "    # Initialize a dictionary with n_volumes as the first value.\n",
    "    info_dict = {'n_volumes':len(img_list)}\n",
    "    # If there are image files in the scan directory... \n",
    "    if len(img_list) > 0:\n",
    "        # Get the path to the first file in the image list.\n",
    "        file_path= '/'.join([scan_dir, img_list[0]])\n",
    "        # Gracefully handle compressed DICOM files.\n",
    "        if file_path.endswith('dcm.gz'):\n",
    "            read_from_temp = True\n",
    "            # Unzip the compressed DICOM to the temporary image path.\n",
    "            os.system('gunzip -c {} > {}'.format(file_path, temp_path))\n",
    "            print('1')\n",
    "        else:\n",
    "            read_from_temp = False\n",
    "        # Try to read the DICOM.\n",
    "        try:\n",
    "            if read_from_temp == True:\n",
    "                dcm_data = dicom.read_file(temp_path)\n",
    "            else:\n",
    "                dcm_data = dicom.read_file(file_path)\n",
    "        # If unable to read the DICOM...\n",
    "        except:\n",
    "            # Print an error message.\n",
    "            print('......unable to load DICOM, continuing to next scan.')\n",
    "            # Fill dictionary values.\n",
    "            for k in params_dict.keys():\n",
    "                info_dict[k] = 'DICOM could not be loaded'\n",
    "            for k in csa_dict.keys():\n",
    "                info_dict[k] = 'DICOM could not be loaded'\n",
    "            # Return the dictionary.\n",
    "            return info_dict\n",
    "        # If DICOM is loaded successfully...\n",
    "        else:\n",
    "            # Try to get information from standard DICOM headers.\n",
    "            for k, v in params_dict.iteritems():\n",
    "                try:\n",
    "                    info_dict[k] = dcm_data.get(v)\n",
    "                except:\n",
    "                    info_dict[k] = 'Not Found'    \n",
    "            # Try to get information from Siemens CSA headers.\n",
    "            for k, v in csa_dict.iteritems():\n",
    "                try:\n",
    "                    info_dict[k] = dcm_data[hex(csa_dict[k][0]), hex(csa_dict[k][1])].value\n",
    "                except:\n",
    "                    info_dict[k] = 'Not Found'\n",
    "            return info_dict\n",
    "        finally:\n",
    "            if read_from_temp == True:\n",
    "                # Delete the temporary uncompressed file.\n",
    "                os.system('rm {}'.format(temp_path))\n",
    "    # If there are no images in the scan directory...\n",
    "    else:\n",
    "        # Fill dictionary values.\n",
    "        for k in params_dict.keys():\n",
    "            info_dict[k] = 'No Images Found'\n",
    "        for k in csa_dict.keys():\n",
    "            info_dict[k] = 'No Images Found'\n",
    "        # Return the dictionary.\n",
    "        return info_dict"
   ]
  },
  {
   "cell_type": "code",
   "execution_count": 2,
   "metadata": {
    "collapsed": false
   },
   "outputs": [],
   "source": [
    "rest_folders = glob.glob('/home/despo/rstate/data/CardiaData/*/CARDIA_CARDIA_Final*/BOLD_resting_*')"
   ]
  },
  {
   "cell_type": "code",
   "execution_count": 3,
   "metadata": {
    "collapsed": false
   },
   "outputs": [],
   "source": [
    "id_search = re.compile('(?<=CardiaData\\/)(\\S+)(?=\\/CARDIA_CARDIA)')"
   ]
  },
  {
   "cell_type": "code",
   "execution_count": 54,
   "metadata": {
    "collapsed": false
   },
   "outputs": [
    {
     "data": {
      "text/plain": [
       "'BOLD_resting_12'"
      ]
     },
     "execution_count": 54,
     "metadata": {},
     "output_type": "execute_result"
    }
   ],
   "source": [
    "os.path.basename(rest_folders[0])"
   ]
  },
  {
   "cell_type": "code",
   "execution_count": 51,
   "metadata": {
    "collapsed": false
   },
   "outputs": [
    {
     "name": "stdout",
     "output_type": "stream",
     "text": [
      "('/home/despo/rstate/data/CardiaData/20197/CARDIA_CARDIA_Final - 2/BOLD_resting_12/IM-0012-0001.dcm.gz', '/home/despo/dlurie/tmp/tmp.dcm')\n"
     ]
    },
    {
     "ename": "CalledProcessError",
     "evalue": "Command '['gunzip', '-c', '/home/despo/rstate/data/CardiaData/20197/CARDIA_CARDIA_Final - 2/BOLD_resting_12/IM-0012-0001.dcm.gz', '>', '/home/despo/dlurie/tmp/tmp.dcm']' returned non-zero exit status 1",
     "output_type": "error",
     "traceback": [
      "\u001b[1;31m---------------------------------------------------------------------------\u001b[0m",
      "\u001b[1;31mCalledProcessError\u001b[0m                        Traceback (most recent call last)",
      "\u001b[1;32m<ipython-input-51-b9e447313051>\u001b[0m in \u001b[0;36m<module>\u001b[1;34m()\u001b[0m\n\u001b[1;32m----> 1\u001b[1;33m \u001b[0mget_dcm_info\u001b[0m\u001b[1;33m(\u001b[0m\u001b[0mrest_folders\u001b[0m\u001b[1;33m[\u001b[0m\u001b[1;36m0\u001b[0m\u001b[1;33m]\u001b[0m\u001b[1;33m,\u001b[0m \u001b[1;34m'/home/despo/dlurie/tmp/tmp.dcm'\u001b[0m\u001b[1;33m)\u001b[0m\u001b[1;33m\u001b[0m\u001b[0m\n\u001b[0m",
      "\u001b[1;32m<ipython-input-49-bd28d272f18f>\u001b[0m in \u001b[0;36mget_dcm_info\u001b[1;34m(scan_dir, temp_path)\u001b[0m\n\u001b[0;32m     32\u001b[0m             \u001b[1;31m# Unzip the compressed DICOM to the temporary image path.\u001b[0m\u001b[1;33m\u001b[0m\u001b[1;33m\u001b[0m\u001b[0m\n\u001b[0;32m     33\u001b[0m             \u001b[1;32mprint\u001b[0m\u001b[1;33m(\u001b[0m\u001b[0mfile_path\u001b[0m\u001b[1;33m,\u001b[0m \u001b[0mtemp_path\u001b[0m\u001b[1;33m)\u001b[0m\u001b[1;33m\u001b[0m\u001b[0m\n\u001b[1;32m---> 34\u001b[1;33m             \u001b[0msubprocess\u001b[0m\u001b[1;33m.\u001b[0m\u001b[0mcheck_call\u001b[0m\u001b[1;33m(\u001b[0m\u001b[1;33m[\u001b[0m\u001b[1;34m'gunzip'\u001b[0m\u001b[1;33m,\u001b[0m \u001b[1;34m'-c'\u001b[0m\u001b[1;33m,\u001b[0m \u001b[0mfile_path\u001b[0m\u001b[1;33m,\u001b[0m \u001b[1;34m'>'\u001b[0m\u001b[1;33m,\u001b[0m \u001b[0mtemp_path\u001b[0m\u001b[1;33m]\u001b[0m\u001b[1;33m)\u001b[0m\u001b[1;33m\u001b[0m\u001b[0m\n\u001b[0m\u001b[0;32m     35\u001b[0m             \u001b[1;32mprint\u001b[0m\u001b[1;33m(\u001b[0m\u001b[1;34m'1'\u001b[0m\u001b[1;33m)\u001b[0m\u001b[1;33m\u001b[0m\u001b[0m\n\u001b[0;32m     36\u001b[0m         \u001b[1;32melse\u001b[0m\u001b[1;33m:\u001b[0m\u001b[1;33m\u001b[0m\u001b[0m\n",
      "\u001b[1;32m/home/despo/dlurie/miniconda/lib/python2.7/subprocess.pyc\u001b[0m in \u001b[0;36mcheck_call\u001b[1;34m(*popenargs, **kwargs)\u001b[0m\n\u001b[0;32m    538\u001b[0m         \u001b[1;32mif\u001b[0m \u001b[0mcmd\u001b[0m \u001b[1;32mis\u001b[0m \u001b[0mNone\u001b[0m\u001b[1;33m:\u001b[0m\u001b[1;33m\u001b[0m\u001b[0m\n\u001b[0;32m    539\u001b[0m             \u001b[0mcmd\u001b[0m \u001b[1;33m=\u001b[0m \u001b[0mpopenargs\u001b[0m\u001b[1;33m[\u001b[0m\u001b[1;36m0\u001b[0m\u001b[1;33m]\u001b[0m\u001b[1;33m\u001b[0m\u001b[0m\n\u001b[1;32m--> 540\u001b[1;33m         \u001b[1;32mraise\u001b[0m \u001b[0mCalledProcessError\u001b[0m\u001b[1;33m(\u001b[0m\u001b[0mretcode\u001b[0m\u001b[1;33m,\u001b[0m \u001b[0mcmd\u001b[0m\u001b[1;33m)\u001b[0m\u001b[1;33m\u001b[0m\u001b[0m\n\u001b[0m\u001b[0;32m    541\u001b[0m     \u001b[1;32mreturn\u001b[0m \u001b[1;36m0\u001b[0m\u001b[1;33m\u001b[0m\u001b[0m\n\u001b[0;32m    542\u001b[0m \u001b[1;33m\u001b[0m\u001b[0m\n",
      "\u001b[1;31mCalledProcessError\u001b[0m: Command '['gunzip', '-c', '/home/despo/rstate/data/CardiaData/20197/CARDIA_CARDIA_Final - 2/BOLD_resting_12/IM-0012-0001.dcm.gz', '>', '/home/despo/dlurie/tmp/tmp.dcm']' returned non-zero exit status 1"
     ]
    }
   ],
   "source": [
    "get_dcm_info(rest_folders[0], '/home/despo/dlurie/tmp/tmp.dcm')"
   ]
  },
  {
   "cell_type": "code",
   "execution_count": 14,
   "metadata": {
    "collapsed": false
   },
   "outputs": [
    {
     "data": {
      "text/plain": [
       "'20197'"
      ]
     },
     "execution_count": 14,
     "metadata": {},
     "output_type": "execute_result"
    }
   ],
   "source": [
    "id_search.search(rest_folders[0]).groups()[0]"
   ]
  },
  {
   "cell_type": "code",
   "execution_count": null,
   "metadata": {
    "collapsed": true
   },
   "outputs": [],
   "source": [
    "tmp_path, out_path = sys.argv[1:]\n",
    "\n",
    "rest_folders = glob.glob('/home/despo/rstate/data/CardiaData/*/CARDIA_CARDIA_Final*/BOLD_resting_*')\n",
    "id_search = re.compile('(?<=CardiaData\\/)(\\S+)(?=\\/CARDIA_CARDIA)')\n",
    "\n",
    "dict_store = []\n",
    "for sub_folder in rest_folders:\n",
    "    sub_id = id_search.search(sub_folder).groups()[0]\n",
    "    print('Processing subject {}...'.format(sub_id))\n",
    "    print('...attempting to extract header information.')\n",
    "    scan_dict = get_dcm_info(sub_folder, tmp_path)\n",
    "    scan_dict['subject_id'] = sub_id\n",
    "    scan_dict['scan_name'] = os.path.basename(sub_folder)\n",
    "    dict_store.append(scan_dict)\n",
    "    os.path.pardir\n",
    "\n",
    "info_df = pd.DataFrame.from_dict(dict_store)\n",
    "info_df.to_csv(out_path)"
   ]
  }
 ],
 "metadata": {
  "kernelspec": {
   "display_name": "Python [Root]",
   "language": "python",
   "name": "Python [Root]"
  },
  "language_info": {
   "codemirror_mode": {
    "name": "ipython",
    "version": 2
   },
   "file_extension": ".py",
   "mimetype": "text/x-python",
   "name": "python",
   "nbconvert_exporter": "python",
   "pygments_lexer": "ipython2",
   "version": "2.7.12"
  }
 },
 "nbformat": 4,
 "nbformat_minor": 0
}
