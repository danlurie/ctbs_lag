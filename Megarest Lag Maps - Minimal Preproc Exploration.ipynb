{
 "cells": [
  {
   "cell_type": "code",
   "execution_count": 66,
   "metadata": {
    "collapsed": true
   },
   "outputs": [],
   "source": [
    "import glob\n",
    "import re\n",
    "import itertools\n",
    "import numpy as np\n",
    "import nibabel as nb\n",
    "import pandas as pd\n",
    "import seaborn as sns\n",
    "import matplotlib.pyplot as plt\n",
    "import ipywidgets as widgets\n",
    "from scipy import stats\n",
    "from nilearn import image, masking, plotting\n",
    "from ipywidgets import interact, interactive, fixed\n",
    "\n",
    "%matplotlib inline\n",
    "plt.style.use('ggplot')"
   ]
  },
  {
   "cell_type": "code",
   "execution_count": 2,
   "metadata": {
    "collapsed": true
   },
   "outputs": [],
   "source": [
    "subject_list = range(101,115)+[116]+range(118,130)"
   ]
  },
  {
   "cell_type": "code",
   "execution_count": null,
   "metadata": {
    "collapsed": true
   },
   "outputs": [],
   "source": [
    "## MAY BE LEGACY\n",
    "\n",
    "def get_gm_data(image_stack):\n",
    "    data_array = []\n",
    "    for i in image_stack:\n",
    "        i_data = i.get_data().ravel()\n",
    "        i_data = i_data[i_data.nonzero()]\n",
    "        data_array.append(i_data)\n",
    "    return data_array"
   ]
  },
  {
   "cell_type": "markdown",
   "metadata": {},
   "source": [
    "### Load Data"
   ]
  },
  {
   "cell_type": "markdown",
   "metadata": {},
   "source": [
    "Get the paths to the lag maps and GM masks."
   ]
  },
  {
   "cell_type": "code",
   "execution_count": 4,
   "metadata": {
    "collapsed": true
   },
   "outputs": [],
   "source": [
    "regions = [('aifo','Aifo'), ('dlpfc','Dlpfc'), ('s1','Sham')]\n",
    "scans = [('baseline', 'rest_1'), ('post1', 'rest_2'), ('post2', 'rest_3')]"
   ]
  },
  {
   "cell_type": "code",
   "execution_count": 5,
   "metadata": {
    "collapsed": true
   },
   "outputs": [],
   "source": [
    "lag_map_fpt = '/home/despo/dlurie/Projects/megarest_lag/analysis/sub*/{0}/sub*_{0}_{1}_minimal_lag10.nii.gz'\n",
    "gm_mask_fpt = '/home/despo/dlurie/Projects/megarest_lag/analysis/sub*/{0}/sub*_{0}_{1}_minimal_gm_30p_mask.nii.gz'"
   ]
  },
  {
   "cell_type": "code",
   "execution_count": 6,
   "metadata": {
    "collapsed": false
   },
   "outputs": [],
   "source": [
    "lag_map_paths = {}\n",
    "for i in itertools.product(regions, scans):\n",
    "    lag_map_paths['_'.join([i[0][0], i[1][0]])] = sorted(glob.glob(lag_map_fpt.format(i[0][1], i[1][1])))"
   ]
  },
  {
   "cell_type": "code",
   "execution_count": 7,
   "metadata": {
    "collapsed": false
   },
   "outputs": [],
   "source": [
    "gm_mask_paths = {}\n",
    "for i in itertools.product(regions, scans):\n",
    "    gm_mask_paths['_'.join([i[0][0], i[1][0]])] = sorted(glob.glob(gm_mask_fpt.format(i[0][1], i[1][1])))"
   ]
  },
  {
   "cell_type": "markdown",
   "metadata": {},
   "source": [
    "Load lag maps and GM masks."
   ]
  },
  {
   "cell_type": "code",
   "execution_count": 8,
   "metadata": {
    "collapsed": false
   },
   "outputs": [],
   "source": [
    "lag_maps = {}\n",
    "for k, v in lag_map_paths.iteritems():\n",
    "    lag_maps[k] = image.smooth_img(v, None)"
   ]
  },
  {
   "cell_type": "code",
   "execution_count": 9,
   "metadata": {
    "collapsed": true
   },
   "outputs": [],
   "source": [
    "gm_masks = {}\n",
    "for k, v in gm_mask_paths.iteritems():\n",
    "    gm_masks[k] = image.smooth_img(v, None)"
   ]
  },
  {
   "cell_type": "markdown",
   "metadata": {},
   "source": [
    "Get arrays containing only the GM voxels from each map."
   ]
  },
  {
   "cell_type": "code",
   "execution_count": 10,
   "metadata": {
    "collapsed": true
   },
   "outputs": [],
   "source": [
    "def iter_masker(img_array, mask_array):\n",
    "    out_array = []\n",
    "    for idx, img_data in enumerate(img_array):\n",
    "        data_masked = masking.apply_mask(img_data, mask_array[idx])\n",
    "        out_array.append(data_masked)\n",
    "    return out_array"
   ]
  },
  {
   "cell_type": "code",
   "execution_count": 11,
   "metadata": {
    "collapsed": false
   },
   "outputs": [],
   "source": [
    "lag_maps_gmonly = {}\n",
    "for k, v in lag_maps.iteritems():\n",
    "    lag_maps_gmonly[k] = iter_masker(v, gm_masks[k])"
   ]
  },
  {
   "cell_type": "markdown",
   "metadata": {},
   "source": [
    "### Generate and save lag difference maps (post1 - baseline)"
   ]
  },
  {
   "cell_type": "code",
   "execution_count": 22,
   "metadata": {
    "collapsed": false
   },
   "outputs": [],
   "source": [
    "def make_difference_imgs(pre_stack, post_stack):\n",
    "    img_diffs = []\n",
    "    for idx, pre_img in enumerate(pre_stack):\n",
    "        diff_img = image.math_img('np.subtract(img2, img1)', img2=post_stack[idx], img1=pre_img)\n",
    "        img_diffs.append(diff_img)\n",
    "    return img_diffs"
   ]
  },
  {
   "cell_type": "code",
   "execution_count": 26,
   "metadata": {
    "collapsed": false
   },
   "outputs": [],
   "source": [
    "diff_maps = {}\n",
    "for stim_site in regions:\n",
    "    baseline_maps = lag_maps['_'.join([stim_site[0], 'baseline'])]\n",
    "    post1_maps = lag_maps['_'.join([stim_site[0], 'post1'])]\n",
    "    diff_maps[stim_site[0]] = make_difference_imgs(baseline_maps, post1_maps)"
   ]
  },
  {
   "cell_type": "code",
   "execution_count": null,
   "metadata": {
    "collapsed": true
   },
   "outputs": [],
   "source": [
    "def save_diff_images(diff_img_array, subject_list, condition):\n",
    "    for idx, sub_id in enumerate(subject_list):\n",
    "        out_path = '/home/despo/dlurie/Projects/megarest_lag/analysis/sub{0}/{1}/sub{0}_{1}_minimal_r2minusr1_diffmap.nii.gz'.format(str(sub_id), condition)\n",
    "        nb.save(diff_img_array[idx], out_path)\n",
    "        out_path_smoothed = '/home/despo/dlurie/Projects/megarest_lag/analysis/sub{0}/{1}/sub{0}_{1}_minimal_r2minusr1_diffmap_smoothed5.nii.gz'.format(str(sub_id), condition)\n",
    "        smoothed_img = image.smooth_img(diff_img_array[idx], 5)\n",
    "        nb.save(smoothed_img, out_path_smoothed)"
   ]
  },
  {
   "cell_type": "code",
   "execution_count": null,
   "metadata": {
    "collapsed": true
   },
   "outputs": [],
   "source": [
    "diff_maps = {}\n",
    "for stim_site in regions:\n",
    "    save_diff_images(diff_maps[stim_site[0]], subject_list, stim_site[1])"
   ]
  },
  {
   "cell_type": "markdown",
   "metadata": {},
   "source": [
    "### Plot Lag Distributions (per subject)"
   ]
  },
  {
   "cell_type": "code",
   "execution_count": null,
   "metadata": {
    "collapsed": true
   },
   "outputs": [],
   "source": [
    "def dist_grid(data_1, data_2, data_3, subject_list, n_cols, title):\n",
    "    \"\"\"\n",
    "    For each subject, plot the distribution of 3 variables. Arrange subplots as a grid\n",
    "    \"\"\"\n",
    "    # Set up the grid\n",
    "    n_subs = len(subject_list)\n",
    "    n_rows = int(np.ceil(n_subs/(float(n_cols))))\n",
    "    \n",
    "    # Set up the plot axes\n",
    "    ax_idx_x= []\n",
    "    ax_idx_y= []\n",
    "    for idx_x in range(n_rows):\n",
    "        for idx_y in range(n_cols):\n",
    "            ax_idx_y.append(idx_y)\n",
    "            ax_idx_x.append(idx_x)\n",
    "            \n",
    "    # Define variable/color/label pairings\n",
    "    colors = ['orangered', 'darkorchid', 'deepskyblue']\n",
    "    labels = ['Baseline', 'Post 1', 'Post 2']\n",
    "    variables = zip([data_1, data_2, data_3], colors, labels)\n",
    "    \n",
    "    # Initialize the figure\n",
    "    f, axarr = plt.subplots(n_rows, n_cols, sharex=True, sharey=True, figsize=(13,2*n_rows))\n",
    "    \n",
    "    # Create a subplot for each subject\n",
    "    for idx, sub_id in enumerate(subject_list):\n",
    "        # Loop through variables\n",
    "        for var in variables:\n",
    "            sns.distplot(var[0][idx], kde=False, hist=True, color=var[1], norm_hist=True,\n",
    "                         ax=axarr[ax_idx_x[idx], ax_idx_y[idx]], label=var[2],\n",
    "                         hist_kws={'histtype': \"step\", 'alpha': 1, 'linewidth': 1})\n",
    "        axarr[ax_idx_x[idx], ax_idx_y[idx]].legend()\n",
    "        axarr[ax_idx_x[idx], ax_idx_y[idx]].set_yscale('log')\n",
    "        axarr[ax_idx_x[idx], ax_idx_y[idx]].set_title('Subject '+str(sub_id), fontsize=10)\n",
    "    plt.xlim(-10, 10)\n",
    "    plt.suptitle(title, y=1.01, fontsize=18)\n",
    "    plt.tight_layout()"
   ]
  },
  {
   "cell_type": "markdown",
   "metadata": {},
   "source": [
    "#### AiFO"
   ]
  },
  {
   "cell_type": "code",
   "execution_count": null,
   "metadata": {
    "collapsed": false,
    "scrolled": true
   },
   "outputs": [],
   "source": [
    "dist_grid(lag_maps_gmonly['aifo_baseline'], lag_maps_gmonly['aifo_post1'], lag_maps_gmonly['aifo_post2'],\n",
    "          subject_list, 3, \"Whole-Brain Lag Distribution (aIfO Stimulation)\")"
   ]
  },
  {
   "cell_type": "markdown",
   "metadata": {},
   "source": [
    "#### dlPFC"
   ]
  },
  {
   "cell_type": "code",
   "execution_count": null,
   "metadata": {
    "collapsed": false,
    "scrolled": true
   },
   "outputs": [],
   "source": [
    "dist_grid(lag_maps_gmonly['dlpfc_baseline'], lag_maps_gmonly['dlpfc_post1'], lag_maps_gmonly['dlpfc_post2'],\n",
    "          subject_list, 3, \"Whole-Brain Lag Distribution (dlPFC Stimulation)\")"
   ]
  },
  {
   "cell_type": "markdown",
   "metadata": {},
   "source": [
    "#### S1"
   ]
  },
  {
   "cell_type": "code",
   "execution_count": null,
   "metadata": {
    "collapsed": false,
    "scrolled": true
   },
   "outputs": [],
   "source": [
    "dist_grid(lag_maps_gmonly['s1_baseline'], lag_maps_gmonly['s1_post1'], lag_maps_gmonly['s1_post2'],\n",
    "          subject_list, 3, \"Whole-Brain Lag Distribution (S1 Stimulation)\")"
   ]
  },
  {
   "cell_type": "markdown",
   "metadata": {},
   "source": [
    "## Under-Coil Analysis"
   ]
  },
  {
   "cell_type": "markdown",
   "metadata": {},
   "source": [
    "### Prepare data"
   ]
  },
  {
   "cell_type": "markdown",
   "metadata": {},
   "source": [
    "Load and resample the TMS ROIs"
   ]
  },
  {
   "cell_type": "code",
   "execution_count": 28,
   "metadata": {
    "collapsed": true
   },
   "outputs": [],
   "source": [
    "def resample_rois(condition_4d, condition_roi_paths):\n",
    "    out_4d = []\n",
    "    for idx, sub_img in enumerate(condition_4d):\n",
    "        roi_path = condition_roi_paths[idx]\n",
    "        roi_img = image.smooth_img(roi_path, None)\n",
    "        roi_img_resampled = image.resample_to_img(roi_img, sub_img, interpolation='nearest')\n",
    "        out_4d.append(roi_img_resampled)\n",
    "    return out_4d"
   ]
  },
  {
   "cell_type": "code",
   "execution_count": 29,
   "metadata": {
    "collapsed": true
   },
   "outputs": [],
   "source": [
    "rois = [('aifo', 'Aifo', 'Aifo'), ('dlpfc', 'Dlpfc', 'Dlpfc'), ('s1', 'Sham','S1_L')]"
   ]
  },
  {
   "cell_type": "code",
   "execution_count": 30,
   "metadata": {
    "collapsed": false
   },
   "outputs": [],
   "source": [
    "roi_fpt = '/home/despo/dlurie/Projects/megarest_lag/data/sub*/{0}/sub*_{1}_roi.nii.gz'\n",
    "roi_paths = {}\n",
    "for i in rois:\n",
    "    roi_paths[i[0]] = sorted(glob.glob(roi_fpt.format(i[1], i[2])))"
   ]
  },
  {
   "cell_type": "code",
   "execution_count": 31,
   "metadata": {
    "collapsed": false
   },
   "outputs": [],
   "source": [
    "roi_imgs = {}\n",
    "for i in itertools.product(regions, regions): # roi location, scan session\n",
    "    roi_imgs['_'.join([i[0][0], i[1][0]])] = resample_rois(lag_maps[i[1][0]+'_baseline'], roi_paths[i[0][0]])"
   ]
  },
  {
   "cell_type": "markdown",
   "metadata": {},
   "source": [
    "Load the pre-computed mean CBF values (per scan, per ROI)"
   ]
  },
  {
   "cell_type": "code",
   "execution_count": 32,
   "metadata": {
    "collapsed": false
   },
   "outputs": [],
   "source": [
    "tms_rois = ['aifo_tms', 'dlpfc_tms', 's1_tms']\n",
    "cbf_rois = ['aifo_cbf', 'dlpfc_cbf', 's1_cbf']\n",
    "cbf_cols = ['_'.join(i) for i in list(itertools.product(tms_rois, cbf_rois))]\n",
    "cbf_cols = ['sub_id'] + cbf_cols"
   ]
  },
  {
   "cell_type": "code",
   "execution_count": 33,
   "metadata": {
    "collapsed": false
   },
   "outputs": [],
   "source": [
    "cbf_data_fpt = '/home/despo/cgratton/data/MegaRest.TMS/Data/ASLdata/global_norm/Alldata_undercoil_CBFmean_spss_{}.txt'\n",
    "cbf_data = {'baseline': 'pre', 'post1': 'post1', 'post2': 'post2'}\n",
    "for k, v in cbf_data.iteritems():\n",
    "    cbf_data[k] = pd.read_csv(cbf_data_fpt.format(v), sep='\\t', usecols=range(0,10),\n",
    "                          index_col=0, names=cbf_cols, header=0)"
   ]
  },
  {
   "cell_type": "markdown",
   "metadata": {},
   "source": [
    "Build a multi-index DF to hold both lag and CBF data."
   ]
  },
  {
   "cell_type": "code",
   "execution_count": 35,
   "metadata": {
    "collapsed": false,
    "scrolled": false
   },
   "outputs": [],
   "source": [
    "roi_list = ['aifo', 'dlpfc', 's1']\n",
    "scan_list = ['baseline', 'post1', 'post2']\n",
    "measures = ['mean_lag', 'mean_cbf']\n",
    "\n",
    "under_coil_ix_rows = [list(i) for i in itertools.product(subject_list, roi_list, scan_list, roi_list, measures)]\n",
    "\n",
    "under_coil_mindex = pd.MultiIndex.from_arrays(np.array(under_coil_ix_rows).T,\n",
    "                                              names=['sub_id', 'stim_roi', 'scan','data_roi', 'measure'])\n",
    "under_coil_df = pd.DataFrame(index=under_coil_mindex)\n",
    "under_coil_df['value'] = np.nan"
   ]
  },
  {
   "cell_type": "markdown",
   "metadata": {},
   "source": [
    "Populate mean lag values."
   ]
  },
  {
   "cell_type": "code",
   "execution_count": 36,
   "metadata": {
    "collapsed": false
   },
   "outputs": [],
   "source": [
    "for i in itertools.product(roi_list, scan_list, roi_list):\n",
    "    lag_map_array = lag_maps['_'.join([i[0], i[1]])]\n",
    "    roi_img_array = roi_imgs['_'.join([i[2], i[0]])]\n",
    "    stim_roi = i[0]\n",
    "    scan = i[1]\n",
    "    data_roi = i[2]\n",
    "    for idx, sub_id in enumerate(subject_list):\n",
    "        sub_id = str(sub_id)\n",
    "        masked_data = masking.apply_mask(lag_map_array[idx], roi_img_array[idx])\n",
    "        under_coil_df.ix[sub_id, stim_roi, scan, data_roi, 'mean_lag'] = np.mean(masked_data, dtype='float64')"
   ]
  },
  {
   "cell_type": "code",
   "execution_count": 37,
   "metadata": {
    "collapsed": false
   },
   "outputs": [],
   "source": [
    "for i in itertools.product(roi_list, scan_list, roi_list):\n",
    "    cbf_df = cbf_data[scan]\n",
    "    stim_roi = i[0]\n",
    "    scan = i[1]\n",
    "    data_roi = i[2]\n",
    "    for idx, sub_id in enumerate(subject_list):\n",
    "        cbf_col = '{0}_tms_{1}_cbf'.format(stim_roi, data_roi)\n",
    "        cbf_val = cbf_df.ix[sub_id, cbf_col]\n",
    "        under_coil_df.ix[str(sub_id), stim_roi, scan, data_roi, 'mean_cbf'] = cbf_val"
   ]
  },
  {
   "cell_type": "markdown",
   "metadata": {},
   "source": [
    "Helper function to query the data frame."
   ]
  },
  {
   "cell_type": "code",
   "execution_count": 38,
   "metadata": {
    "collapsed": true
   },
   "outputs": [],
   "source": [
    "def grab_from_df(subject_list, stim_roi, scan, data_roi, val_col):\n",
    "    dseries = []\n",
    "    for sub_id in subject_list:\n",
    "        val = under_coil_df.loc[str(sub_id), stim_roi, scan, data_roi, val_col].value\n",
    "        dseries.append(val)\n",
    "    return pd.Series(dseries, index=subject_list)"
   ]
  },
  {
   "cell_type": "code",
   "execution_count": null,
   "metadata": {
    "collapsed": true
   },
   "outputs": [],
   "source": [
    "under_coil_df.query()"
   ]
  },
  {
   "cell_type": "code",
   "execution_count": 91,
   "metadata": {
    "collapsed": true
   },
   "outputs": [],
   "source": [
    "diff_df = pd.DataFrame()"
   ]
  },
  {
   "cell_type": "code",
   "execution_count": 94,
   "metadata": {
    "collapsed": true
   },
   "outputs": [],
   "source": [
    "diff_df['aifo_lag'] = grab_from_df(subject_list, 'aifo', 'post1','aifo', 'mean_lag') - grab_from_df(subject_list, 'aifo', 'baseline','aifo', 'mean_lag')"
   ]
  },
  {
   "cell_type": "code",
   "execution_count": 95,
   "metadata": {
    "collapsed": false
   },
   "outputs": [
    {
     "data": {
      "text/html": [
       "<div>\n",
       "<table border=\"1\" class=\"dataframe\">\n",
       "  <thead>\n",
       "    <tr style=\"text-align: right;\">\n",
       "      <th></th>\n",
       "      <th>aifo_lag</th>\n",
       "    </tr>\n",
       "  </thead>\n",
       "  <tbody>\n",
       "    <tr>\n",
       "      <th>101</th>\n",
       "      <td>-0.286004</td>\n",
       "    </tr>\n",
       "    <tr>\n",
       "      <th>102</th>\n",
       "      <td>-1.023307</td>\n",
       "    </tr>\n",
       "    <tr>\n",
       "      <th>103</th>\n",
       "      <td>0.263217</td>\n",
       "    </tr>\n",
       "    <tr>\n",
       "      <th>104</th>\n",
       "      <td>0.133626</td>\n",
       "    </tr>\n",
       "    <tr>\n",
       "      <th>105</th>\n",
       "      <td>0.713012</td>\n",
       "    </tr>\n",
       "    <tr>\n",
       "      <th>106</th>\n",
       "      <td>-0.233612</td>\n",
       "    </tr>\n",
       "    <tr>\n",
       "      <th>107</th>\n",
       "      <td>0.810955</td>\n",
       "    </tr>\n",
       "    <tr>\n",
       "      <th>108</th>\n",
       "      <td>0.495815</td>\n",
       "    </tr>\n",
       "    <tr>\n",
       "      <th>109</th>\n",
       "      <td>-1.972206</td>\n",
       "    </tr>\n",
       "    <tr>\n",
       "      <th>110</th>\n",
       "      <td>-0.011985</td>\n",
       "    </tr>\n",
       "    <tr>\n",
       "      <th>111</th>\n",
       "      <td>0.005016</td>\n",
       "    </tr>\n",
       "    <tr>\n",
       "      <th>112</th>\n",
       "      <td>-0.659805</td>\n",
       "    </tr>\n",
       "    <tr>\n",
       "      <th>113</th>\n",
       "      <td>0.095657</td>\n",
       "    </tr>\n",
       "    <tr>\n",
       "      <th>114</th>\n",
       "      <td>0.327880</td>\n",
       "    </tr>\n",
       "    <tr>\n",
       "      <th>116</th>\n",
       "      <td>-0.783188</td>\n",
       "    </tr>\n",
       "    <tr>\n",
       "      <th>118</th>\n",
       "      <td>-0.259985</td>\n",
       "    </tr>\n",
       "    <tr>\n",
       "      <th>119</th>\n",
       "      <td>0.934082</td>\n",
       "    </tr>\n",
       "    <tr>\n",
       "      <th>120</th>\n",
       "      <td>0.213660</td>\n",
       "    </tr>\n",
       "    <tr>\n",
       "      <th>121</th>\n",
       "      <td>0.791462</td>\n",
       "    </tr>\n",
       "    <tr>\n",
       "      <th>122</th>\n",
       "      <td>0.746035</td>\n",
       "    </tr>\n",
       "    <tr>\n",
       "      <th>123</th>\n",
       "      <td>0.130143</td>\n",
       "    </tr>\n",
       "    <tr>\n",
       "      <th>124</th>\n",
       "      <td>0.385360</td>\n",
       "    </tr>\n",
       "    <tr>\n",
       "      <th>125</th>\n",
       "      <td>0.204109</td>\n",
       "    </tr>\n",
       "    <tr>\n",
       "      <th>126</th>\n",
       "      <td>-0.026086</td>\n",
       "    </tr>\n",
       "    <tr>\n",
       "      <th>127</th>\n",
       "      <td>-0.477557</td>\n",
       "    </tr>\n",
       "    <tr>\n",
       "      <th>128</th>\n",
       "      <td>0.039822</td>\n",
       "    </tr>\n",
       "    <tr>\n",
       "      <th>129</th>\n",
       "      <td>-0.206289</td>\n",
       "    </tr>\n",
       "  </tbody>\n",
       "</table>\n",
       "</div>"
      ],
      "text/plain": [
       "     aifo_lag\n",
       "101 -0.286004\n",
       "102 -1.023307\n",
       "103  0.263217\n",
       "104  0.133626\n",
       "105  0.713012\n",
       "106 -0.233612\n",
       "107  0.810955\n",
       "108  0.495815\n",
       "109 -1.972206\n",
       "110 -0.011985\n",
       "111  0.005016\n",
       "112 -0.659805\n",
       "113  0.095657\n",
       "114  0.327880\n",
       "116 -0.783188\n",
       "118 -0.259985\n",
       "119  0.934082\n",
       "120  0.213660\n",
       "121  0.791462\n",
       "122  0.746035\n",
       "123  0.130143\n",
       "124  0.385360\n",
       "125  0.204109\n",
       "126 -0.026086\n",
       "127 -0.477557\n",
       "128  0.039822\n",
       "129 -0.206289"
      ]
     },
     "execution_count": 95,
     "metadata": {},
     "output_type": "execute_result"
    }
   ],
   "source": [
    "diff_df"
   ]
  },
  {
   "cell_type": "code",
   "execution_count": 93,
   "metadata": {
    "collapsed": false
   },
   "outputs": [
    {
     "data": {
      "text/plain": [
       "101   -0.286004\n",
       "102   -1.023307\n",
       "103    0.263217\n",
       "104    0.133626\n",
       "105    0.713012\n",
       "106   -0.233612\n",
       "107    0.810955\n",
       "108    0.495815\n",
       "109   -1.972206\n",
       "110   -0.011985\n",
       "111    0.005016\n",
       "112   -0.659805\n",
       "113    0.095657\n",
       "114    0.327880\n",
       "116   -0.783188\n",
       "118   -0.259985\n",
       "119    0.934082\n",
       "120    0.213660\n",
       "121    0.791462\n",
       "122    0.746035\n",
       "123    0.130143\n",
       "124    0.385360\n",
       "125    0.204109\n",
       "126   -0.026086\n",
       "127   -0.477557\n",
       "128    0.039822\n",
       "129   -0.206289\n",
       "dtype: float64"
      ]
     },
     "execution_count": 93,
     "metadata": {},
     "output_type": "execute_result"
    }
   ],
   "source": [
    "for stim_site in regions\n",
    "grab_from_df(subject_list, 'aifo', 'post1','aifo', 'mean_lag') - grab_from_df(subject_list, 'aifo', 'baseline','aifo', 'mean_lag')"
   ]
  },
  {
   "cell_type": "code",
   "execution_count": 87,
   "metadata": {
    "collapsed": false
   },
   "outputs": [
    {
     "data": {
      "text/plain": [
       "101    0.914495\n",
       "102   -0.274019\n",
       "103    0.077731\n",
       "104   -0.228730\n",
       "105   -1.114637\n",
       "106    0.067282\n",
       "107    0.187518\n",
       "108   -0.825202\n",
       "109    1.931918\n",
       "110    0.079699\n",
       "111   -0.022370\n",
       "112    0.033335\n",
       "113   -0.141764\n",
       "114   -0.254341\n",
       "116    0.417389\n",
       "118    0.279205\n",
       "119   -0.594670\n",
       "120    0.179799\n",
       "121    0.287139\n",
       "122   -0.624754\n",
       "123   -0.261120\n",
       "124   -0.389255\n",
       "125    0.377670\n",
       "126    0.029280\n",
       "127    0.548589\n",
       "128    0.080232\n",
       "129    0.157020\n",
       "dtype: float64"
      ]
     },
     "execution_count": 87,
     "metadata": {},
     "output_type": "execute_result"
    }
   ],
   "source": [
    "grab_from_df(subject_list, 'aifo', 'baseline','aifo', 'mean_lag')"
   ]
  },
  {
   "cell_type": "markdown",
   "metadata": {},
   "source": [
    "Flatten the data frame for plotting."
   ]
  },
  {
   "cell_type": "code",
   "execution_count": 39,
   "metadata": {
    "collapsed": true
   },
   "outputs": [],
   "source": [
    "under_coil_dflat = under_coil_df.reset_index()"
   ]
  },
  {
   "cell_type": "markdown",
   "metadata": {},
   "source": [
    "Calculate changes (pre/post) changes in lag and CBF under the coil."
   ]
  },
  {
   "cell_type": "code",
   "execution_count": 40,
   "metadata": {
    "collapsed": false,
    "scrolled": true
   },
   "outputs": [],
   "source": [
    "stim_data_baseline = under_coil_dflat[(under_coil_dflat['stim_roi'] == under_coil_dflat['data_roi']) &\n",
    "                             (under_coil_dflat['scan'] == 'baseline')].set_index('sub_id')"
   ]
  },
  {
   "cell_type": "code",
   "execution_count": 41,
   "metadata": {
    "collapsed": true
   },
   "outputs": [],
   "source": [
    "all_mean_lag_baseline = stim_data_baseline[stim_data_baseline['measure'] == 'mean_lag']['value']\n",
    "all_mean_cbf_baseline = stim_data_baseline[stim_data_baseline['measure'] == 'mean_cbf']['value']"
   ]
  },
  {
   "cell_type": "code",
   "execution_count": 42,
   "metadata": {
    "collapsed": false,
    "scrolled": true
   },
   "outputs": [],
   "source": [
    "stim_data_post1 = under_coil_dflat[(under_coil_dflat['stim_roi'] == under_coil_dflat['data_roi']) & \n",
    "                                   (under_coil_dflat['scan'] == 'post1')].set_index('sub_id')"
   ]
  },
  {
   "cell_type": "code",
   "execution_count": 43,
   "metadata": {
    "collapsed": false
   },
   "outputs": [],
   "source": [
    "all_mean_lag_post1 = stim_data_post1[stim_data_post1['measure'] == 'mean_lag']['value']\n",
    "all_mean_cbf_post1 = stim_data_post1[stim_data_post1['measure'] == 'mean_cbf']['value']"
   ]
  },
  {
   "cell_type": "code",
   "execution_count": 44,
   "metadata": {
    "collapsed": false
   },
   "outputs": [],
   "source": [
    "lag_diff = np.subtract(all_mean_lag_post1, all_mean_lag_baseline)"
   ]
  },
  {
   "cell_type": "code",
   "execution_count": 45,
   "metadata": {
    "collapsed": true
   },
   "outputs": [],
   "source": [
    "cbf_diff = np.subtract(all_mean_cbf_post1, all_mean_cbf_baseline)"
   ]
  },
  {
   "cell_type": "code",
   "execution_count": 90,
   "metadata": {
    "collapsed": false
   },
   "outputs": [
    {
     "data": {
      "text/html": [
       "<div>\n",
       "<table border=\"1\" class=\"dataframe\">\n",
       "  <thead>\n",
       "    <tr style=\"text-align: right;\">\n",
       "      <th></th>\n",
       "      <th></th>\n",
       "      <th></th>\n",
       "      <th></th>\n",
       "      <th></th>\n",
       "      <th>value</th>\n",
       "    </tr>\n",
       "    <tr>\n",
       "      <th>sub_id</th>\n",
       "      <th>stim_roi</th>\n",
       "      <th>scan</th>\n",
       "      <th>data_roi</th>\n",
       "      <th>measure</th>\n",
       "      <th></th>\n",
       "    </tr>\n",
       "  </thead>\n",
       "  <tbody>\n",
       "    <tr>\n",
       "      <th rowspan=\"30\" valign=\"top\">101</th>\n",
       "      <th rowspan=\"18\" valign=\"top\">aifo</th>\n",
       "      <th rowspan=\"6\" valign=\"top\">baseline</th>\n",
       "      <th rowspan=\"2\" valign=\"top\">aifo</th>\n",
       "      <th>mean_lag</th>\n",
       "      <td>0.914495</td>\n",
       "    </tr>\n",
       "    <tr>\n",
       "      <th>mean_cbf</th>\n",
       "      <td>1.172600</td>\n",
       "    </tr>\n",
       "    <tr>\n",
       "      <th rowspan=\"2\" valign=\"top\">dlpfc</th>\n",
       "      <th>mean_lag</th>\n",
       "      <td>-0.168200</td>\n",
       "    </tr>\n",
       "    <tr>\n",
       "      <th>mean_cbf</th>\n",
       "      <td>1.323900</td>\n",
       "    </tr>\n",
       "    <tr>\n",
       "      <th rowspan=\"2\" valign=\"top\">s1</th>\n",
       "      <th>mean_lag</th>\n",
       "      <td>-0.405013</td>\n",
       "    </tr>\n",
       "    <tr>\n",
       "      <th>mean_cbf</th>\n",
       "      <td>0.965100</td>\n",
       "    </tr>\n",
       "    <tr>\n",
       "      <th rowspan=\"6\" valign=\"top\">post1</th>\n",
       "      <th rowspan=\"2\" valign=\"top\">aifo</th>\n",
       "      <th>mean_lag</th>\n",
       "      <td>0.628491</td>\n",
       "    </tr>\n",
       "    <tr>\n",
       "      <th>mean_cbf</th>\n",
       "      <td>1.282600</td>\n",
       "    </tr>\n",
       "    <tr>\n",
       "      <th rowspan=\"2\" valign=\"top\">dlpfc</th>\n",
       "      <th>mean_lag</th>\n",
       "      <td>-0.390401</td>\n",
       "    </tr>\n",
       "    <tr>\n",
       "      <th>mean_cbf</th>\n",
       "      <td>1.396300</td>\n",
       "    </tr>\n",
       "    <tr>\n",
       "      <th rowspan=\"2\" valign=\"top\">s1</th>\n",
       "      <th>mean_lag</th>\n",
       "      <td>-0.498098</td>\n",
       "    </tr>\n",
       "    <tr>\n",
       "      <th>mean_cbf</th>\n",
       "      <td>0.724500</td>\n",
       "    </tr>\n",
       "    <tr>\n",
       "      <th rowspan=\"6\" valign=\"top\">post2</th>\n",
       "      <th rowspan=\"2\" valign=\"top\">aifo</th>\n",
       "      <th>mean_lag</th>\n",
       "      <td>0.011386</td>\n",
       "    </tr>\n",
       "    <tr>\n",
       "      <th>mean_cbf</th>\n",
       "      <td>1.388700</td>\n",
       "    </tr>\n",
       "    <tr>\n",
       "      <th rowspan=\"2\" valign=\"top\">dlpfc</th>\n",
       "      <th>mean_lag</th>\n",
       "      <td>0.213745</td>\n",
       "    </tr>\n",
       "    <tr>\n",
       "      <th>mean_cbf</th>\n",
       "      <td>1.280400</td>\n",
       "    </tr>\n",
       "    <tr>\n",
       "      <th rowspan=\"2\" valign=\"top\">s1</th>\n",
       "      <th>mean_lag</th>\n",
       "      <td>-0.014692</td>\n",
       "    </tr>\n",
       "    <tr>\n",
       "      <th>mean_cbf</th>\n",
       "      <td>0.682500</td>\n",
       "    </tr>\n",
       "    <tr>\n",
       "      <th rowspan=\"12\" valign=\"top\">dlpfc</th>\n",
       "      <th rowspan=\"6\" valign=\"top\">baseline</th>\n",
       "      <th rowspan=\"2\" valign=\"top\">aifo</th>\n",
       "      <th>mean_lag</th>\n",
       "      <td>1.598493</td>\n",
       "    </tr>\n",
       "    <tr>\n",
       "      <th>mean_cbf</th>\n",
       "      <td>1.470600</td>\n",
       "    </tr>\n",
       "    <tr>\n",
       "      <th rowspan=\"2\" valign=\"top\">dlpfc</th>\n",
       "      <th>mean_lag</th>\n",
       "      <td>0.122241</td>\n",
       "    </tr>\n",
       "    <tr>\n",
       "      <th>mean_cbf</th>\n",
       "      <td>1.340600</td>\n",
       "    </tr>\n",
       "    <tr>\n",
       "      <th rowspan=\"2\" valign=\"top\">s1</th>\n",
       "      <th>mean_lag</th>\n",
       "      <td>0.055927</td>\n",
       "    </tr>\n",
       "    <tr>\n",
       "      <th>mean_cbf</th>\n",
       "      <td>0.738700</td>\n",
       "    </tr>\n",
       "    <tr>\n",
       "      <th rowspan=\"6\" valign=\"top\">post1</th>\n",
       "      <th rowspan=\"2\" valign=\"top\">aifo</th>\n",
       "      <th>mean_lag</th>\n",
       "      <td>-0.166973</td>\n",
       "    </tr>\n",
       "    <tr>\n",
       "      <th>mean_cbf</th>\n",
       "      <td>1.417400</td>\n",
       "    </tr>\n",
       "    <tr>\n",
       "      <th rowspan=\"2\" valign=\"top\">dlpfc</th>\n",
       "      <th>mean_lag</th>\n",
       "      <td>-0.017568</td>\n",
       "    </tr>\n",
       "    <tr>\n",
       "      <th>mean_cbf</th>\n",
       "      <td>1.238500</td>\n",
       "    </tr>\n",
       "    <tr>\n",
       "      <th rowspan=\"2\" valign=\"top\">s1</th>\n",
       "      <th>mean_lag</th>\n",
       "      <td>-0.313417</td>\n",
       "    </tr>\n",
       "    <tr>\n",
       "      <th>mean_cbf</th>\n",
       "      <td>0.725400</td>\n",
       "    </tr>\n",
       "    <tr>\n",
       "      <th>...</th>\n",
       "      <th>...</th>\n",
       "      <th>...</th>\n",
       "      <th>...</th>\n",
       "      <th>...</th>\n",
       "      <td>...</td>\n",
       "    </tr>\n",
       "    <tr>\n",
       "      <th rowspan=\"30\" valign=\"top\">129</th>\n",
       "      <th rowspan=\"12\" valign=\"top\">dlpfc</th>\n",
       "      <th rowspan=\"6\" valign=\"top\">post1</th>\n",
       "      <th rowspan=\"2\" valign=\"top\">aifo</th>\n",
       "      <th>mean_lag</th>\n",
       "      <td>0.862203</td>\n",
       "    </tr>\n",
       "    <tr>\n",
       "      <th>mean_cbf</th>\n",
       "      <td>1.232600</td>\n",
       "    </tr>\n",
       "    <tr>\n",
       "      <th rowspan=\"2\" valign=\"top\">dlpfc</th>\n",
       "      <th>mean_lag</th>\n",
       "      <td>-2.609827</td>\n",
       "    </tr>\n",
       "    <tr>\n",
       "      <th>mean_cbf</th>\n",
       "      <td>1.250600</td>\n",
       "    </tr>\n",
       "    <tr>\n",
       "      <th rowspan=\"2\" valign=\"top\">s1</th>\n",
       "      <th>mean_lag</th>\n",
       "      <td>0.005627</td>\n",
       "    </tr>\n",
       "    <tr>\n",
       "      <th>mean_cbf</th>\n",
       "      <td>0.884400</td>\n",
       "    </tr>\n",
       "    <tr>\n",
       "      <th rowspan=\"6\" valign=\"top\">post2</th>\n",
       "      <th rowspan=\"2\" valign=\"top\">aifo</th>\n",
       "      <th>mean_lag</th>\n",
       "      <td>-0.174357</td>\n",
       "    </tr>\n",
       "    <tr>\n",
       "      <th>mean_cbf</th>\n",
       "      <td>1.267000</td>\n",
       "    </tr>\n",
       "    <tr>\n",
       "      <th rowspan=\"2\" valign=\"top\">dlpfc</th>\n",
       "      <th>mean_lag</th>\n",
       "      <td>0.409377</td>\n",
       "    </tr>\n",
       "    <tr>\n",
       "      <th>mean_cbf</th>\n",
       "      <td>0.994100</td>\n",
       "    </tr>\n",
       "    <tr>\n",
       "      <th rowspan=\"2\" valign=\"top\">s1</th>\n",
       "      <th>mean_lag</th>\n",
       "      <td>0.381695</td>\n",
       "    </tr>\n",
       "    <tr>\n",
       "      <th>mean_cbf</th>\n",
       "      <td>0.699600</td>\n",
       "    </tr>\n",
       "    <tr>\n",
       "      <th rowspan=\"18\" valign=\"top\">s1</th>\n",
       "      <th rowspan=\"6\" valign=\"top\">baseline</th>\n",
       "      <th rowspan=\"2\" valign=\"top\">aifo</th>\n",
       "      <th>mean_lag</th>\n",
       "      <td>0.658511</td>\n",
       "    </tr>\n",
       "    <tr>\n",
       "      <th>mean_cbf</th>\n",
       "      <td>1.123300</td>\n",
       "    </tr>\n",
       "    <tr>\n",
       "      <th rowspan=\"2\" valign=\"top\">dlpfc</th>\n",
       "      <th>mean_lag</th>\n",
       "      <td>0.624246</td>\n",
       "    </tr>\n",
       "    <tr>\n",
       "      <th>mean_cbf</th>\n",
       "      <td>1.385000</td>\n",
       "    </tr>\n",
       "    <tr>\n",
       "      <th rowspan=\"2\" valign=\"top\">s1</th>\n",
       "      <th>mean_lag</th>\n",
       "      <td>-0.890565</td>\n",
       "    </tr>\n",
       "    <tr>\n",
       "      <th>mean_cbf</th>\n",
       "      <td>1.075000</td>\n",
       "    </tr>\n",
       "    <tr>\n",
       "      <th rowspan=\"6\" valign=\"top\">post1</th>\n",
       "      <th rowspan=\"2\" valign=\"top\">aifo</th>\n",
       "      <th>mean_lag</th>\n",
       "      <td>0.604111</td>\n",
       "    </tr>\n",
       "    <tr>\n",
       "      <th>mean_cbf</th>\n",
       "      <td>1.268400</td>\n",
       "    </tr>\n",
       "    <tr>\n",
       "      <th rowspan=\"2\" valign=\"top\">dlpfc</th>\n",
       "      <th>mean_lag</th>\n",
       "      <td>-0.026305</td>\n",
       "    </tr>\n",
       "    <tr>\n",
       "      <th>mean_cbf</th>\n",
       "      <td>1.429700</td>\n",
       "    </tr>\n",
       "    <tr>\n",
       "      <th rowspan=\"2\" valign=\"top\">s1</th>\n",
       "      <th>mean_lag</th>\n",
       "      <td>-0.084922</td>\n",
       "    </tr>\n",
       "    <tr>\n",
       "      <th>mean_cbf</th>\n",
       "      <td>0.607000</td>\n",
       "    </tr>\n",
       "    <tr>\n",
       "      <th rowspan=\"6\" valign=\"top\">post2</th>\n",
       "      <th rowspan=\"2\" valign=\"top\">aifo</th>\n",
       "      <th>mean_lag</th>\n",
       "      <td>-0.680175</td>\n",
       "    </tr>\n",
       "    <tr>\n",
       "      <th>mean_cbf</th>\n",
       "      <td>1.286200</td>\n",
       "    </tr>\n",
       "    <tr>\n",
       "      <th rowspan=\"2\" valign=\"top\">dlpfc</th>\n",
       "      <th>mean_lag</th>\n",
       "      <td>0.343267</td>\n",
       "    </tr>\n",
       "    <tr>\n",
       "      <th>mean_cbf</th>\n",
       "      <td>1.251600</td>\n",
       "    </tr>\n",
       "    <tr>\n",
       "      <th rowspan=\"2\" valign=\"top\">s1</th>\n",
       "      <th>mean_lag</th>\n",
       "      <td>0.160955</td>\n",
       "    </tr>\n",
       "    <tr>\n",
       "      <th>mean_cbf</th>\n",
       "      <td>1.106700</td>\n",
       "    </tr>\n",
       "  </tbody>\n",
       "</table>\n",
       "<p>1458 rows × 1 columns</p>\n",
       "</div>"
      ],
      "text/plain": [
       "                                               value\n",
       "sub_id stim_roi scan     data_roi measure           \n",
       "101    aifo     baseline aifo     mean_lag  0.914495\n",
       "                                  mean_cbf  1.172600\n",
       "                         dlpfc    mean_lag -0.168200\n",
       "                                  mean_cbf  1.323900\n",
       "                         s1       mean_lag -0.405013\n",
       "                                  mean_cbf  0.965100\n",
       "                post1    aifo     mean_lag  0.628491\n",
       "                                  mean_cbf  1.282600\n",
       "                         dlpfc    mean_lag -0.390401\n",
       "                                  mean_cbf  1.396300\n",
       "                         s1       mean_lag -0.498098\n",
       "                                  mean_cbf  0.724500\n",
       "                post2    aifo     mean_lag  0.011386\n",
       "                                  mean_cbf  1.388700\n",
       "                         dlpfc    mean_lag  0.213745\n",
       "                                  mean_cbf  1.280400\n",
       "                         s1       mean_lag -0.014692\n",
       "                                  mean_cbf  0.682500\n",
       "       dlpfc    baseline aifo     mean_lag  1.598493\n",
       "                                  mean_cbf  1.470600\n",
       "                         dlpfc    mean_lag  0.122241\n",
       "                                  mean_cbf  1.340600\n",
       "                         s1       mean_lag  0.055927\n",
       "                                  mean_cbf  0.738700\n",
       "                post1    aifo     mean_lag -0.166973\n",
       "                                  mean_cbf  1.417400\n",
       "                         dlpfc    mean_lag -0.017568\n",
       "                                  mean_cbf  1.238500\n",
       "                         s1       mean_lag -0.313417\n",
       "                                  mean_cbf  0.725400\n",
       "...                                              ...\n",
       "129    dlpfc    post1    aifo     mean_lag  0.862203\n",
       "                                  mean_cbf  1.232600\n",
       "                         dlpfc    mean_lag -2.609827\n",
       "                                  mean_cbf  1.250600\n",
       "                         s1       mean_lag  0.005627\n",
       "                                  mean_cbf  0.884400\n",
       "                post2    aifo     mean_lag -0.174357\n",
       "                                  mean_cbf  1.267000\n",
       "                         dlpfc    mean_lag  0.409377\n",
       "                                  mean_cbf  0.994100\n",
       "                         s1       mean_lag  0.381695\n",
       "                                  mean_cbf  0.699600\n",
       "       s1       baseline aifo     mean_lag  0.658511\n",
       "                                  mean_cbf  1.123300\n",
       "                         dlpfc    mean_lag  0.624246\n",
       "                                  mean_cbf  1.385000\n",
       "                         s1       mean_lag -0.890565\n",
       "                                  mean_cbf  1.075000\n",
       "                post1    aifo     mean_lag  0.604111\n",
       "                                  mean_cbf  1.268400\n",
       "                         dlpfc    mean_lag -0.026305\n",
       "                                  mean_cbf  1.429700\n",
       "                         s1       mean_lag -0.084922\n",
       "                                  mean_cbf  0.607000\n",
       "                post2    aifo     mean_lag -0.680175\n",
       "                                  mean_cbf  1.286200\n",
       "                         dlpfc    mean_lag  0.343267\n",
       "                                  mean_cbf  1.251600\n",
       "                         s1       mean_lag  0.160955\n",
       "                                  mean_cbf  1.106700\n",
       "\n",
       "[1458 rows x 1 columns]"
      ]
     },
     "execution_count": 90,
     "metadata": {},
     "output_type": "execute_result"
    }
   ],
   "source": []
  },
  {
   "cell_type": "markdown",
   "metadata": {},
   "source": [
    "### Plot CBF and lag changes."
   ]
  },
  {
   "cell_type": "markdown",
   "metadata": {},
   "source": [
    "### Plot CBF changes against lag changes."
   ]
  },
  {
   "cell_type": "code",
   "execution_count": 75,
   "metadata": {
    "collapsed": false
   },
   "outputs": [],
   "source": [
    "scatter_pallette = ['#1b9e77', '#d95f02', '#7570b3']"
   ]
  },
  {
   "cell_type": "code",
   "execution_count": 76,
   "metadata": {
    "collapsed": false
   },
   "outputs": [],
   "source": [
    "scatter_colors = []\n",
    "for i in stim_data_post1['stim_roi'].values:\n",
    "    if i == 'aifo':\n",
    "        scatter_colors.append(scatter_pallette[0])\n",
    "    elif i == 'dlpfc':\n",
    "        scatter_colors.append(scatter_pallette[1])\n",
    "    elif i == 's1':\n",
    "        scatter_colors.append(scatter_pallette[2])"
   ]
  },
  {
   "cell_type": "code",
   "execution_count": 77,
   "metadata": {
    "collapsed": true
   },
   "outputs": [],
   "source": [
    "import matplotlib.patches as mpatches"
   ]
  },
  {
   "cell_type": "code",
   "execution_count": 110,
   "metadata": {
    "collapsed": false
   },
   "outputs": [
    {
     "data": {
      "image/png": "[encoded data removed]",
      "text/plain": [
       "<matplotlib.figure.Figure at 0x7f338f77c690>"
      ]
     },
     "metadata": {},
     "output_type": "display_data"
    }
   ],
   "source": [
    "fig, ax = plt.subplots(1, figsize=(16,10))\n",
    "s = ax.scatter(lag_diff, cbf_diff, c=scatter_colors, s=175)\n",
    "plt.tick_params(which='both', labelsize=20)\n",
    "ax.set_title('Local Hemodynamic Changes After cTBS (post - pre)', fontsize=26, fontweight='bold',y=1.05)\n",
    "ax.set_ylabel('Change in mean CBF under coil', fontsize=24, labelpad=20)\n",
    "ax.set_xlabel('Change in mean BOLD lag (TRs) under coil', fontsize=24, labelpad=20)\n",
    "aifo_patch = mpatches.Patch(color='#1b9e77', label='aI/fO')\n",
    "dlpfc_patch = mpatches.Patch(color='#d95f02', label='dlPFC')\n",
    "s1_patch = mpatches.Patch(color='#7570b3', label='S1')\n",
    "plt.legend(handles=[aifo_patch, dlpfc_patch, s1_patch], fontsize=20)\n",
    "plt.savefig('figures/change_by_change.svg', facecolor='w')"
   ]
  },
  {
   "cell_type": "code",
   "execution_count": 52,
   "metadata": {
    "collapsed": true
   },
   "outputs": [],
   "source": [
    "cbf_higher = (cbf_diff >=0).values\n",
    "foo = cbf_diff[cbf_higher].values\n",
    "bar = lag_diff[cbf_higher].values"
   ]
  },
  {
   "cell_type": "code",
   "execution_count": 53,
   "metadata": {
    "collapsed": false
   },
   "outputs": [],
   "source": [
    "cbf_lower = (cbf_diff <=0).values\n",
    "foo = cbf_diff[cbf_lower].values\n",
    "bar = lag_diff[cbf_lower].values"
   ]
  },
  {
   "cell_type": "code",
   "execution_count": 54,
   "metadata": {
    "collapsed": false
   },
   "outputs": [
    {
     "name": "stdout",
     "output_type": "stream",
     "text": [
      "(-0.23376464986196732, 0.19042437174550927)\n"
     ]
    },
    {
     "data": {
      "text/plain": [
       "<matplotlib.text.Text at 0x7f3396a51fd0>"
      ]
     },
     "execution_count": 54,
     "metadata": {},
     "output_type": "execute_result"
    },
    {
     "data": {
      "image/png": "[encoded data removed]",
      "text/plain": [
       "<matplotlib.figure.Figure at 0x7f3396adcb10>"
      ]
     },
     "metadata": {},
     "output_type": "display_data"
    }
   ],
   "source": [
    "print(str(stats.pearsonr(foo, bar)))\n",
    "sns.regplot(foo, bar)\n",
    "plt.xlabel('Change in CBF at ROI')\n",
    "plt.ylabel('Change in Lag at ROI')"
   ]
  },
  {
   "cell_type": "code",
   "execution_count": 55,
   "metadata": {
    "collapsed": false
   },
   "outputs": [
    {
     "data": {
      "text/plain": [
       "<matplotlib.text.Text at 0x7f3396e91390>"
      ]
     },
     "execution_count": 55,
     "metadata": {},
     "output_type": "execute_result"
    },
    {
     "data": {
      "image/png": "[encoded data removed]",
      "text/plain": [
       "<matplotlib.figure.Figure at 0x7f3396c8dfd0>"
      ]
     },
     "metadata": {},
     "output_type": "display_data"
    }
   ],
   "source": [
    "## print(str(stats.pearsonr(np.absolute(cbf_diff), np.absolute(lag_diff))))\n",
    "sns.regplot(np.absolute(cbf_diff), np.absolute(lag_diff))\n",
    "plt.xlabel('Change in CBF at ROI')\n",
    "plt.ylabel('Change in Lag at ROI')"
   ]
  },
  {
   "cell_type": "code",
   "execution_count": null,
   "metadata": {
    "collapsed": false
   },
   "outputs": [],
   "source": [
    "sns.regplot(dists_df_fd['value'], dists_df_any['value'])\n",
    "plt.xlabel('Mean FD')\n",
    "plt.ylabel('% voxels > +/- 2s')"
   ]
  },
  {
   "cell_type": "code",
   "execution_count": 57,
   "metadata": {
    "collapsed": false
   },
   "outputs": [
    {
     "ename": "NameError",
     "evalue": "name 'rois_dflat_lag' is not defined",
     "output_type": "error",
     "traceback": [
      "\u001b[1;31m---------------------------------------------------------------------------\u001b[0m",
      "\u001b[1;31mNameError\u001b[0m                                 Traceback (most recent call last)",
      "\u001b[1;32m<ipython-input-57-4beb624503fd>\u001b[0m in \u001b[0;36m<module>\u001b[1;34m()\u001b[0m\n\u001b[1;32m----> 1\u001b[1;33m \u001b[0mg\u001b[0m \u001b[1;33m=\u001b[0m \u001b[0msns\u001b[0m\u001b[1;33m.\u001b[0m\u001b[0mFacetGrid\u001b[0m\u001b[1;33m(\u001b[0m\u001b[0mrois_dflat_lag\u001b[0m\u001b[1;33m,\u001b[0m \u001b[0mcol\u001b[0m\u001b[1;33m=\u001b[0m\u001b[1;34m\"roi\"\u001b[0m\u001b[1;33m,\u001b[0m \u001b[0msize\u001b[0m\u001b[1;33m=\u001b[0m\u001b[1;36m3\u001b[0m\u001b[1;33m,\u001b[0m \u001b[0maspect\u001b[0m\u001b[1;33m=\u001b[0m\u001b[1;36m1\u001b[0m\u001b[1;33m,\u001b[0m \u001b[0mlegend_out\u001b[0m\u001b[1;33m=\u001b[0m\u001b[0mFalse\u001b[0m\u001b[1;33m)\u001b[0m\u001b[1;33m\u001b[0m\u001b[0m\n\u001b[0m\u001b[0;32m      2\u001b[0m \u001b[0mg\u001b[0m\u001b[1;33m.\u001b[0m\u001b[0mmap\u001b[0m\u001b[1;33m(\u001b[0m\u001b[0msns\u001b[0m\u001b[1;33m.\u001b[0m\u001b[0mswarmplot\u001b[0m\u001b[1;33m,\u001b[0m \u001b[1;34m\"scan\"\u001b[0m\u001b[1;33m,\u001b[0m \u001b[1;34m\"value\"\u001b[0m\u001b[1;33m,\u001b[0m \u001b[0mpalette\u001b[0m\u001b[1;33m=\u001b[0m\u001b[1;34m\"Set2\"\u001b[0m\u001b[1;33m)\u001b[0m\u001b[1;33m;\u001b[0m\u001b[1;33m\u001b[0m\u001b[0m\n\u001b[0;32m      3\u001b[0m \u001b[0mg\u001b[0m\u001b[1;33m.\u001b[0m\u001b[0madd_legend\u001b[0m\u001b[1;33m(\u001b[0m\u001b[1;33m)\u001b[0m\u001b[1;33m\u001b[0m\u001b[0m\n\u001b[0;32m      4\u001b[0m \u001b[0mg\u001b[0m\u001b[1;33m.\u001b[0m\u001b[0mset_ylabels\u001b[0m\u001b[1;33m(\u001b[0m\u001b[1;34m'Mean lag within ROI'\u001b[0m\u001b[1;33m)\u001b[0m\u001b[1;33m\u001b[0m\u001b[0m\n",
      "\u001b[1;31mNameError\u001b[0m: name 'rois_dflat_lag' is not defined"
     ]
    }
   ],
   "source": [
    "g = sns.FacetGrid(rois_dflat_lag, col=\"roi\", size=3, aspect=1, legend_out=False)\n",
    "g.map(sns.swarmplot, \"scan\", \"value\", palette=\"Set2\");\n",
    "g.add_legend()\n",
    "g.set_ylabels('Mean lag within ROI')"
   ]
  },
  {
   "cell_type": "code",
   "execution_count": 81,
   "metadata": {
    "collapsed": false
   },
   "outputs": [
    {
     "ename": "TypeError",
     "evalue": "__init__() takes at least 2 arguments (1 given)",
     "output_type": "error",
     "traceback": [
      "\u001b[1;31m---------------------------------------------------------------------------\u001b[0m",
      "\u001b[1;31mTypeError\u001b[0m                                 Traceback (most recent call last)",
      "\u001b[1;32m<ipython-input-81-8a44d1a3947a>\u001b[0m in \u001b[0;36m<module>\u001b[1;34m()\u001b[0m\n\u001b[1;32m----> 1\u001b[1;33m \u001b[0msns\u001b[0m\u001b[1;33m.\u001b[0m\u001b[0mFacetGrid\u001b[0m\u001b[1;33m(\u001b[0m\u001b[1;33m)\u001b[0m\u001b[1;33m\u001b[0m\u001b[0m\n\u001b[0m",
      "\u001b[1;31mTypeError\u001b[0m: __init__() takes at least 2 arguments (1 given)"
     ]
    }
   ],
   "source": [
    "sns.FacetGrid("
   ]
  },
  {
   "cell_type": "code",
   "execution_count": null,
   "metadata": {
    "collapsed": false
   },
   "outputs": [],
   "source": [
    "g = sns.FacetGrid(rois_dflat_cbf_all, col=\"roi\", size=3, aspect=1, legend_out=False)\n",
    "g.map(sns.swarmplot, \"scan\", \"value\", palette=\"Set2\");\n",
    "g.add_legend()\n",
    "g.set_ylabels('Mean CBF within ROI')"
   ]
  },
  {
   "cell_type": "code",
   "execution_count": null,
   "metadata": {
    "collapsed": false,
    "scrolled": true
   },
   "outputs": [],
   "source": [
    "print(str(stats.pearsonr(rois_dflat_cbf_all['value'], rois_dflat_lag_all['value'])))\n",
    "sns.regplot(rois_dflat_cbf_all['value'], rois_dflat_lag_all['value'])\n",
    "plt.xlabel('Mean CBF at ROI')\n",
    "plt.ylabel('Mean Lag at ROI')"
   ]
  },
  {
   "cell_type": "code",
   "execution_count": null,
   "metadata": {
    "collapsed": false,
    "scrolled": true
   },
   "outputs": [],
   "source": [
    "print(str(stats.pearsonr(rois_dflat_cbf_pre['value'], rois_dflat_lag_pre['value'])))\n",
    "sns.regplot(rois_dflat_cbf_pre['value'], rois_dflat_lag_pre['value'])\n",
    "plt.xlabel('Mean CBF at ROI')\n",
    "plt.ylabel('Mean Lag at ROI')"
   ]
  },
  {
   "cell_type": "code",
   "execution_count": null,
   "metadata": {
    "collapsed": false,
    "scrolled": true
   },
   "outputs": [],
   "source": [
    "print(str(stats.pearsonr(rois_dflat_cbf_dlpfc['value'], rois_dflat_lag_dlpfc['value'])))\n",
    "sns.regplot(rois_dflat_cbf_dlpfc['value'], rois_dflat_lag_dlpfc['value'])\n",
    "plt.xlabel('Mean CBF at ROI')\n",
    "plt.ylabel('Mean Lag at ROI')"
   ]
  },
  {
   "cell_type": "code",
   "execution_count": null,
   "metadata": {
    "collapsed": false,
    "scrolled": true
   },
   "outputs": [],
   "source": [
    "g = sns.FacetGrid(rois_dflat_cbf, col=\"sub_id\", size=2.7, aspect=.5, col_wrap=9, legend_out=False)\n",
    "g.map(sns.pointplot, \"scan\", \"value\", 'roi', linewidth=5, palette=\"Set2\",);\n",
    "g.add_legend()\n",
    "g.set_ylabels('Mean lag within ROI')"
   ]
  },
  {
   "cell_type": "code",
   "execution_count": null,
   "metadata": {
    "collapsed": false
   },
   "outputs": [],
   "source": [
    "sns.set_context(rc={\"lines.linewidth\": 0.75})"
   ]
  },
  {
   "cell_type": "code",
   "execution_count": null,
   "metadata": {
    "collapsed": false,
    "scrolled": true
   },
   "outputs": [],
   "source": [
    "g = sns.FacetGrid(under_coil_dflat, col=\"sub_id\", size=2.7, aspect=.5, col_wrap=9, legend_out=False)\n",
    "g.map(sns.pointplot, \"scan\", \"mean_lag_at_roi\", 'roi', linewidth=5, palette=\"Set2\",);\n",
    "g.add_legend()\n",
    "g.set_ylabels('Mean lag within ROI')"
   ]
  },
  {
   "cell_type": "markdown",
   "metadata": {},
   "source": [
    "### Load and resample CBF images."
   ]
  },
  {
   "cell_type": "code",
   "execution_count": null,
   "metadata": {
    "collapsed": false
   },
   "outputs": [],
   "source": [
    "aifo_rest1_mean_cbf_paths = ['/home/despo/cgratton/data/MegaRest.TMS/Data/{}_Aifo/Analysis/ASL_new/Block01/mask_files/norm_scCBF_timeseries_mask.nii.gz'.format(str(sub_id)) for sub_id in subject_list]\n",
    "aifo_rest2_mean_cbf_paths = ['/home/despo/cgratton/data/MegaRest.TMS/Data/{}_Aifo/Analysis/ASL_new/Block02/mask_files/norm_scCBF_timeseries_mask.nii.gz'.format(str(sub_id)) for sub_id in subject_list]\n",
    "aifo_rest3_mean_cbf_paths = ['/home/despo/cgratton/data/MegaRest.TMS/Data/{}_Aifo/Analysis/ASL_new/Block03/mask_files/norm_scCBF_timeseries_mask.nii.gz'.format(str(sub_id)) for sub_id in subject_list]\n",
    "\n",
    "dlpfc_rest1_mean_cbf_paths = ['/home/despo/cgratton/data/MegaRest.TMS/Data/{}_Dlpfc/Analysis/ASL_new/Block01/mask_files/norm_scCBF_timeseries_mask.nii.gz'.format(str(sub_id)) for sub_id in subject_list]\n",
    "dlpfc_rest2_mean_cbf_paths = ['/home/despo/cgratton/data/MegaRest.TMS/Data/{}_Dlpfc/Analysis/ASL_new/Block02/mask_files/norm_scCBF_timeseries_mask.nii.gz'.format(str(sub_id)) for sub_id in subject_list]\n",
    "dlpfc_rest3_mean_cbf_paths = ['/home/despo/cgratton/data/MegaRest.TMS/Data/{}_Dlpfc/Analysis/ASL_new/Block03/mask_files/norm_scCBF_timeseries_mask.nii.gz'.format(str(sub_id)) for sub_id in subject_list]\n",
    "\n",
    "sham_rest1_mean_cbf_paths = ['/home/despo/cgratton/data/MegaRest.TMS/Data/{}_Sham/Analysis/ASL_new/Block01/mask_files/norm_scCBF_timeseries_mask.nii.gz'.format(str(sub_id)) for sub_id in subject_list]\n",
    "sham_rest2_mean_cbf_paths = ['/home/despo/cgratton/data/MegaRest.TMS/Data/{}_Sham/Analysis/ASL_new/Block02/mask_files/norm_scCBF_timeseries_mask.nii.gz'.format(str(sub_id)) for sub_id in subject_list]\n",
    "sham_rest3_mean_cbf_paths = ['/home/despo/cgratton/data/MegaRest.TMS/Data/{}_Sham/Analysis/ASL_new/Block03/mask_files/norm_scCBF_timeseries_mask.nii.gz'.format(str(sub_id)) for sub_id in subject_list]"
   ]
  },
  {
   "cell_type": "markdown",
   "metadata": {
    "collapsed": false
   },
   "source": [
    "### Check for motion confound"
   ]
  },
  {
   "cell_type": "code",
   "execution_count": null,
   "metadata": {
    "collapsed": false
   },
   "outputs": [],
   "source": [
    "sub101_fd = compute_FD('/home/despo/dlurie/Projects/megarest_lag/data/sub102/Aifo/sub102_Aifo_rest_1_motion_params.txt', 'degrees')"
   ]
  },
  {
   "cell_type": "code",
   "execution_count": null,
   "metadata": {
    "collapsed": false
   },
   "outputs": [],
   "source": [
    "np.mean(sub101_fd)"
   ]
  },
  {
   "cell_type": "code",
   "execution_count": null,
   "metadata": {
    "collapsed": false
   },
   "outputs": [],
   "source": [
    "mp_test['Dmotion'][0][0].shape"
   ]
  },
  {
   "cell_type": "code",
   "execution_count": null,
   "metadata": {
    "collapsed": false
   },
   "outputs": [],
   "source": [
    "mp_test.keys()"
   ]
  },
  {
   "cell_type": "code",
   "execution_count": null,
   "metadata": {
    "collapsed": false
   },
   "outputs": [],
   "source": [
    "np.io.('/home/despo/arielle/megarest_sc/data/motion_params/101/motion_info_Aifo_FD_thr0.2.mat')"
   ]
  },
  {
   "cell_type": "code",
   "execution_count": null,
   "metadata": {
    "collapsed": false
   },
   "outputs": [],
   "source": [
    "plotting.plot_stat_map('/home/despo/dlurie/Projects/megarest_lag/analysis/sub110/Aifo/sub110_Aifo_minimal_r2minusr1_diffmap_smoothed5.nii.gz'\n",
    "                       , bg_img=None, display_mode='z', black_bg=True)"
   ]
  },
  {
   "cell_type": "code",
   "execution_count": null,
   "metadata": {
    "collapsed": true
   },
   "outputs": [],
   "source": []
  },
  {
   "cell_type": "markdown",
   "metadata": {},
   "source": [
    "### TO CLEAN- Plot changes in extreme leads/lags"
   ]
  },
  {
   "cell_type": "code",
   "execution_count": null,
   "metadata": {
    "collapsed": false
   },
   "outputs": [],
   "source": [
    "def count_extremes(sub_data, thresh):\n",
    "    n_nonzero = np.count_nonzero(sub_data)\n",
    "    n_greater = np.count_nonzero(sub_data <= -thresh)\n",
    "    n_lesser = np.count_nonzero(sub_data >= thresh)\n",
    "    pct_lead = np.true_divide(n_greater, n_nonzero)\n",
    "    pct_lag = np.true_divide(n_lesser, n_nonzero)\n",
    "    return pct_lead, pct_lag"
   ]
  },
  {
   "cell_type": "code",
   "execution_count": null,
   "metadata": {
    "collapsed": true
   },
   "outputs": [],
   "source": [
    "def compute_FD(file, units):\n",
    "    \"\"\"\n",
    "\n",
    "    :rtype: object\n",
    "    \"\"\"\n",
    "    import numpy as np\n",
    "\n",
    "    if units == 'radians' or units == 'Radians':\n",
    "        factor = 1\n",
    "    elif units == 'degrees' or units == 'Degrees':\n",
    "        factor = (np.pi / 180) * 50\n",
    "\n",
    "    MP = np.loadtxt(file)\n",
    "    AbsMotDiff = abs(np.diff(MP, axis=0))\n",
    "\n",
    "    Trans = AbsMotDiff[:, 0:3]\n",
    "    Rot = AbsMotDiff[:, 3:6]\n",
    "    FD = np.sum(Trans, axis=1) + np.sum(factor * Rot, axis=1)\n",
    "\n",
    "    return FD"
   ]
  },
  {
   "cell_type": "code",
   "execution_count": null,
   "metadata": {
    "collapsed": false
   },
   "outputs": [],
   "source": [
    "roi_list = ['aifo', 'dlpfc', 's1']\n",
    "scan_list = ['rest1', 'rest2', 'rest3']\n",
    "measures = ['pct_big_lead', 'pct_big_lag', 'pct_big_any', 'mean_fd', 'mean_lag']\n",
    "\n",
    "row_store = []\n",
    "for subject in subject_list:\n",
    "    for roi in roi_list:\n",
    "        for scan in scan_list:\n",
    "            for measure in measures:\n",
    "                row = [str(subject), roi, scan, measure]\n",
    "                row_store.append(row)\n",
    "\n",
    "dists_df_mindex = pd.MultiIndex.from_arrays(np.array(row_store).T, names=['sub_id', 'roi', 'scan', 'measure'])\n",
    "dists_dframe = pd.DataFrame(index=dists_df_mindex)\n",
    "dists_dframe['value'] = np.nan"
   ]
  },
  {
   "cell_type": "code",
   "execution_count": null,
   "metadata": {
    "collapsed": false
   },
   "outputs": [],
   "source": [
    "input_arrays =[[aifo_rest1_gm_data, 'aifo', 'rest1', 'Aifo', 'rest_1'],\n",
    "               [aifo_rest2_gm_data, 'aifo', 'rest2', 'Aifo', 'rest_2'],\n",
    "               [aifo_rest3_gm_data, 'aifo', 'rest3', 'Aifo', 'rest_3'],\n",
    "               [dlpfc_rest1_gm_data, 'dlpfc', 'rest1', 'Dlpfc', 'rest_1'],\n",
    "               [dlpfc_rest2_gm_data, 'dlpfc', 'rest2', 'Dlpfc', 'rest_2'],\n",
    "               [dlpfc_rest3_gm_data, 'dlpfc', 'rest3', 'Dlpfc', 'rest_3'],\n",
    "               [sham_rest1_gm_data, 's1', 'rest1', 'Sham', 'rest_1'],\n",
    "               [sham_rest2_gm_data, 's1', 'rest2', 'Sham', 'rest_2'],\n",
    "               [sham_rest3_gm_data, 's1', 'rest3', 'Sham', 'rest_3']]\n",
    "\n",
    "for sub_array in input_arrays:\n",
    "    data_array = sub_array[0]\n",
    "    roi = sub_array[1]\n",
    "    scan = sub_array[2]\n",
    "    condition = sub_array[3]\n",
    "    scan_name = sub_array[4]\n",
    "    for idx, sub_id in enumerate(subject_list):\n",
    "        sub_id = str(sub_id)\n",
    "        counts = count_extremes(data_array[idx], 1)\n",
    "        dists_dframe.ix[sub_id, roi, scan, 'pct_big_lead'] = counts[0]\n",
    "        dists_dframe.ix[sub_id, roi, scan, 'pct_big_lag'] = counts[1]\n",
    "        dists_dframe.ix[sub_id, roi, scan, 'pct_big_any'] = counts[0] + counts[1]\n",
    "        scan_fd_array = compute_FD('/home/despo/dlurie/Projects/megarest_lag/data/sub{0}/{1}/sub{0}_{1}_{2}_motion_params.txt'.format(sub_id, condition, scan_name), 'degrees')\n",
    "        dists_dframe.ix[sub_id, roi, scan, 'mean_fd'] = np.mean(scan_fd_array)\n",
    "        dists_dframe.ix[sub_id, roi, scan, 'mean_lag'] = np.mean(data_array[idx])"
   ]
  },
  {
   "cell_type": "code",
   "execution_count": null,
   "metadata": {
    "collapsed": false
   },
   "outputs": [],
   "source": [
    "dists_dflat = dists_dframe.reset_index()\n",
    "dists_df_leads = dists_dflat[dists_dflat['measure'] == 'pct_big_lead']\n",
    "dists_df_lags = dists_dflat[dists_dflat['measure'] == 'pct_big_lag']\n",
    "dists_df_any = dists_dflat[dists_dflat['measure'] == 'pct_big_any']\n",
    "dists_df_fd = dists_dflat[dists_dflat['measure'] == 'mean_fd']\n",
    "dists_df_mean = dists_dflat[dists_dflat['measure'] == 'mean_lag']"
   ]
  },
  {
   "cell_type": "code",
   "execution_count": null,
   "metadata": {
    "collapsed": true
   },
   "outputs": [],
   "source": [
    "g = sns.FacetGrid(dists_df_mean, col=\"roi\", size=3, aspect=1, legend_out=False)\n",
    "g.map(sns.swarmplot, \"scan\", \"value\", palette=\"Set2\");\n",
    "g.add_legend()\n",
    "g.set_ylabels('Mean lag')"
   ]
  },
  {
   "cell_type": "code",
   "execution_count": null,
   "metadata": {
    "collapsed": false
   },
   "outputs": [],
   "source": [
    "stats.f_oneway(dists_df_mean[(dists_df_mean['scan']=='rest1') & (dists_df_mean['roi']=='aifo')]['value'],\n",
    "               dists_df_mean[(dists_df_mean['scan']=='rest2') & (dists_df_mean['roi']=='aifo')]['value'],\n",
    "               dists_df_mean[(dists_df_mean['scan']=='rest3') & (dists_df_mean['roi']=='aifo')]['value'])"
   ]
  },
  {
   "cell_type": "code",
   "execution_count": null,
   "metadata": {
    "collapsed": true
   },
   "outputs": [],
   "source": [
    "g = sns.FacetGrid(dists_df_mean, col=\"sub_id\", size=2.7, aspect=.5, col_wrap=9, legend_out=False)\n",
    "g.map(sns.pointplot, \"scan\", \"value\", 'roi', palette=\"Set2\");\n",
    "g.add_legend()\n",
    "g.set_ylabels('Mean lag')"
   ]
  },
  {
   "cell_type": "markdown",
   "metadata": {},
   "source": [
    "#### Percent of voxels with lead > 2s"
   ]
  },
  {
   "cell_type": "code",
   "execution_count": null,
   "metadata": {
    "collapsed": true
   },
   "outputs": [],
   "source": [
    "g = sns.FacetGrid(dists_df_leads, col=\"roi\", size=3, aspect=1, legend_out=False)\n",
    "g.map(sns.swarmplot, \"scan\", \"value\", palette=\"Set2\");\n",
    "g.add_legend()\n",
    "g.set_ylabels('% vox w/ lead > 2s')"
   ]
  },
  {
   "cell_type": "code",
   "execution_count": null,
   "metadata": {
    "collapsed": false
   },
   "outputs": [],
   "source": [
    "stats.f_oneway(dists_df_leads[(dists_df_leads['scan']=='rest1') & (dists_df_leads['roi']=='aifo')]['value'],\n",
    "               dists_df_leads[(dists_df_leads['scan']=='rest2') & (dists_df_leads['roi']=='aifo')]['value'],\n",
    "               dists_df_leads[(dists_df_leads['scan']=='rest3') & (dists_df_leads['roi']=='aifo')]['value'])"
   ]
  },
  {
   "cell_type": "code",
   "execution_count": null,
   "metadata": {
    "collapsed": true
   },
   "outputs": [],
   "source": [
    "g = sns.FacetGrid(dists_df_leads, col=\"sub_id\", size=3, aspect=1, col_wrap=4, legend_out=False)\n",
    "g.map(sns.pointplot, \"scan\", \"value\", 'roi', palette=\"Set2\");\n",
    "g.add_legend()"
   ]
  },
  {
   "cell_type": "markdown",
   "metadata": {},
   "source": [
    "#### Percent of voxels with lags > 2s"
   ]
  },
  {
   "cell_type": "code",
   "execution_count": null,
   "metadata": {
    "collapsed": false,
    "scrolled": true
   },
   "outputs": [],
   "source": [
    "g = sns.FacetGrid(dists_df_lags, col=\"roi\", size=3, aspect=1, legend_out=False)\n",
    "g.map(sns.swarmplot, \"scan\", \"value\", palette=\"Set2\");\n",
    "g.add_legend()"
   ]
  },
  {
   "cell_type": "code",
   "execution_count": null,
   "metadata": {
    "collapsed": false
   },
   "outputs": [],
   "source": [
    "stats.f_oneway(dists_df_lags[(dists_df_lags['scan']=='rest1') & (dists_df_lags['roi']=='aifo')]['value'],\n",
    "               dists_df_lags[(dists_df_lags['scan']=='rest2') & (dists_df_lags['roi']=='aifo')]['value'],\n",
    "               dists_df_lags[(dists_df_lags['scan']=='rest3') & (dists_df_lags['roi']=='aifo')]['value'])"
   ]
  },
  {
   "cell_type": "code",
   "execution_count": null,
   "metadata": {
    "collapsed": false,
    "scrolled": true
   },
   "outputs": [],
   "source": [
    "g = sns.FacetGrid(dists_df_lags, col=\"sub_id\", size=3, aspect=1, col_wrap=4, legend_out=False)\n",
    "g.map(sns.pointplot, \"scan\", \"value\", 'roi', palette=\"Set2\");\n",
    "g.add_legend()"
   ]
  },
  {
   "cell_type": "markdown",
   "metadata": {},
   "source": [
    "#### Percent of voxels with leads or lags > 2s"
   ]
  },
  {
   "cell_type": "code",
   "execution_count": null,
   "metadata": {
    "collapsed": false,
    "scrolled": true
   },
   "outputs": [],
   "source": [
    "g = sns.FacetGrid(dists_df_any, col=\"roi\", size=3, aspect=1, legend_out=False)\n",
    "g.map(sns.swarmplot, \"scan\", \"value\", palette=\"Set2\");\n",
    "g.add_legend()\n",
    "g.set_ylabels('% vox w/ lead or lag > 2s')"
   ]
  },
  {
   "cell_type": "code",
   "execution_count": null,
   "metadata": {
    "collapsed": false
   },
   "outputs": [],
   "source": [
    "stats.f_oneway(dists_df_any[(dists_df_any['scan']=='rest1') & (dists_df_any['roi']=='aifo')]['value'],\n",
    "               dists_df_any[(dists_df_any['scan']=='rest2') & (dists_df_any['roi']=='aifo')]['value'],\n",
    "               dists_df_any[(dists_df_any['scan']=='rest3') & (dists_df_any['roi']=='aifo')]['value'])"
   ]
  },
  {
   "cell_type": "code",
   "execution_count": null,
   "metadata": {
    "collapsed": false,
    "scrolled": true
   },
   "outputs": [],
   "source": [
    "g = sns.FacetGrid(dists_df_any, col=\"sub_id\", size=2.7, aspect=.5, col_wrap=9, legend_out=False)\n",
    "g.map(sns.pointplot, \"scan\", \"value\", 'roi', palette=\"Set2\");\n",
    "g.add_legend()\n",
    "g.set_ylabels('% vox w/ lead or lag > 2s')"
   ]
  },
  {
   "cell_type": "code",
   "execution_count": null,
   "metadata": {
    "collapsed": false,
    "scrolled": true
   },
   "outputs": [],
   "source": [
    "print(str(stats.pearsonr(dists_df_fd['value'], dists_df_any['value'])))\n",
    "sns.regplot(dists_df_fd['value'], dists_df_any['value'])\n",
    "plt.xlabel('Mean FD')\n",
    "plt.ylabel('% voxels > +/- 2s')"
   ]
  },
  {
   "cell_type": "code",
   "execution_count": null,
   "metadata": {
    "collapsed": false,
    "scrolled": true
   },
   "outputs": [],
   "source": [
    "sns.regplot(dists_df_fd['value'], dists_df_mean['value'], fit_reg=True)\n",
    "plt.xlabel('Mean FD')\n",
    "plt.ylabel('Mean Lag')"
   ]
  }
 ],
 "metadata": {
  "kernelspec": {
   "display_name": "Python [Root]",
   "language": "python",
   "name": "Python [Root]"
  },
  "language_info": {
   "codemirror_mode": {
    "name": "ipython",
    "version": 2
   },
   "file_extension": ".py",
   "mimetype": "text/x-python",
   "name": "python",
   "nbconvert_exporter": "python",
   "pygments_lexer": "ipython2",
   "version": "2.7.12"
  }
 },
 "nbformat": 4,
 "nbformat_minor": 0
}
