{
 "cells": [
  {
   "cell_type": "code",
   "execution_count": 6,
   "metadata": {
    "collapsed": true
   },
   "outputs": [],
   "source": [
    "import glob\n",
    "import re\n",
    "import itertools\n",
    "import numpy as np\n",
    "import nibabel as nb\n",
    "import pandas as pd\n",
    "import seaborn as sns\n",
    "import matplotlib.pyplot as plt\n",
    "import ipywidgets as widgets\n",
    "from scipy import stats\n",
    "from nilearn import image, masking, plotting\n",
    "from ipywidgets import interact, interactive, fixed\n",
    "\n",
    "%matplotlib inline\n",
    "plt.style.use('ggplot')"
   ]
  },
  {
   "cell_type": "code",
   "execution_count": 2,
   "metadata": {
    "collapsed": true
   },
   "outputs": [],
   "source": [
    "subject_list = range(101,115)+[116]+range(118,130)"
   ]
  },
  {
   "cell_type": "markdown",
   "metadata": {},
   "source": [
    "### Load Data"
   ]
  },
  {
   "cell_type": "code",
   "execution_count": null,
   "metadata": {
    "collapsed": true
   },
   "outputs": [],
   "source": [
    "def get_gm_data(image_stack):\n",
    "    data_array = []\n",
    "    for i in image_stack:\n",
    "        i_data = i.get_data().ravel()\n",
    "        i_data = i_data[i_data.nonzero()]\n",
    "        data_array.append(i_data)\n",
    "    return data_array"
   ]
  },
  {
   "cell_type": "markdown",
   "metadata": {},
   "source": [
    "Get the paths to the lag maps and GM masks."
   ]
  },
  {
   "cell_type": "code",
   "execution_count": 3,
   "metadata": {
    "collapsed": true
   },
   "outputs": [],
   "source": [
    "regions = [('aifo','Aifo'), ('dlpfc','Dlpfc'), ('s1','Sham')]\n",
    "scans = [('baseline', 'rest_1'), ('post1', 'rest_2'), ('post2', 'rest_3')]"
   ]
  },
  {
   "cell_type": "code",
   "execution_count": 4,
   "metadata": {
    "collapsed": true
   },
   "outputs": [],
   "source": [
    "lag_map_fpt = '/home/despo/dlurie/Projects/megarest_lag/analysis/sub*/{0}/sub*_{0}_{1}_minimal_lag10.nii.gz'\n",
    "gm_mask_fpt = '/home/despo/dlurie/Projects/megarest_lag/analysis/sub*/{0}/sub*_{0}_{1}_minimal_gm_30p_mask.nii.gz'"
   ]
  },
  {
   "cell_type": "code",
   "execution_count": 7,
   "metadata": {
    "collapsed": false
   },
   "outputs": [],
   "source": [
    "lag_map_paths = {}\n",
    "for i in itertools.product(regions, scans):\n",
    "    lag_map_paths['_'.join([i[0][0], i[1][0]])] = sorted(glob.glob(lag_map_fpt.format(i[0][1], i[1][1])))"
   ]
  },
  {
   "cell_type": "code",
   "execution_count": 8,
   "metadata": {
    "collapsed": false
   },
   "outputs": [],
   "source": [
    "gm_mask_paths = {}\n",
    "for i in itertools.product(regions, scans):\n",
    "    gm_mask_paths['_'.join([i[0][0], i[1][0]])] = sorted(glob.glob(gm_mask_fpt.format(i[0][1], i[1][1])))"
   ]
  },
  {
   "cell_type": "markdown",
   "metadata": {},
   "source": [
    "Load lag maps and GM masks."
   ]
  },
  {
   "cell_type": "code",
   "execution_count": 9,
   "metadata": {
    "collapsed": false
   },
   "outputs": [],
   "source": [
    "lag_maps = {}\n",
    "for k, v in lag_map_paths.iteritems():\n",
    "    lag_maps[k] = image.smooth_img(v, None)"
   ]
  },
  {
   "cell_type": "code",
   "execution_count": 11,
   "metadata": {
    "collapsed": true
   },
   "outputs": [],
   "source": [
    "gm_masks = {}\n",
    "for k, v in gm_mask_paths.iteritems():\n",
    "    gm_masks[k] = image.smooth_img(v, None)"
   ]
  },
  {
   "cell_type": "markdown",
   "metadata": {},
   "source": [
    "Get arrays containing only the GM voxels from each map."
   ]
  },
  {
   "cell_type": "code",
   "execution_count": 12,
   "metadata": {
    "collapsed": true
   },
   "outputs": [],
   "source": [
    "def iter_masker(img_array, mask_array):\n",
    "    out_array = []\n",
    "    for idx, img_data in enumerate(img_array):\n",
    "        data_masked = masking.apply_mask(img_data, mask_array[idx])\n",
    "        out_array.append(data_masked)\n",
    "    return out_array"
   ]
  },
  {
   "cell_type": "code",
   "execution_count": 14,
   "metadata": {
    "collapsed": false
   },
   "outputs": [],
   "source": [
    "lag_maps_gmonly = {}\n",
    "for k, v in lag_maps.iteritems():\n",
    "    lag_maps_gmonly[k] = iter_masker(v, gm_masks[k])"
   ]
  },
  {
   "cell_type": "markdown",
   "metadata": {},
   "source": [
    "### Calculate difference maps (rest 2 - rest 1)"
   ]
  },
  {
   "cell_type": "code",
   "execution_count": null,
   "metadata": {
    "collapsed": false
   },
   "outputs": [],
   "source": [
    "def make_difference_img(img1_4d, img2_4d):\n",
    "    img_diffs = []\n",
    "    for idx, sub_img1 in enumerate(img1_4d):\n",
    "        diff_img = image.math_img('np.subtract(map2, map1)', map2=img2_4d[idx], map1=sub_img1)\n",
    "        img_diffs.append(diff_img)\n",
    "    return img_diffs"
   ]
  },
  {
   "cell_type": "code",
   "execution_count": null,
   "metadata": {
    "collapsed": true
   },
   "outputs": [],
   "source": [
    "aifo_diffs = make_difference_img(aifo_rest1_minimal_4d, aifo_rest2_minimal_4d)\n",
    "dlpfc_diffs = make_difference_img(dlpfc_rest1_minimal_4d, dlpfc_rest2_minimal_4d)\n",
    "sham_diffs = make_difference_img(sham_rest1_minimal_4d, sham_rest2_minimal_4d)"
   ]
  },
  {
   "cell_type": "code",
   "execution_count": null,
   "metadata": {
    "collapsed": true
   },
   "outputs": [],
   "source": [
    "def save_diff_images(diff_img_array, subject_list, condition):\n",
    "    for idx, sub_id in enumerate(subject_list):\n",
    "        out_path = '/home/despo/dlurie/Projects/megarest_lag/analysis/sub{0}/{1}/sub{0}_{1}_minimal_r2minusr1_diffmap.nii.gz'.format(str(sub_id), condition)\n",
    "        nb.save(diff_img_array[idx], out_path)\n",
    "        out_path_smoothed = '/home/despo/dlurie/Projects/megarest_lag/analysis/sub{0}/{1}/sub{0}_{1}_minimal_r2minusr1_diffmap_smoothed5.nii.gz'.format(str(sub_id), condition)\n",
    "        smoothed_img = image.smooth_img(diff_img_array[idx], 5)\n",
    "        nb.save(smoothed_img, out_path_smoothed)"
   ]
  },
  {
   "cell_type": "code",
   "execution_count": null,
   "metadata": {
    "collapsed": false
   },
   "outputs": [],
   "source": [
    "save_diff_images(aifo_diffs, subject_list, 'Aifo')\n",
    "save_diff_images(dlpfc_diffs, subject_list, 'Dlpfc')\n",
    "save_diff_images(sham_diffs, subject_list, 'Sham')"
   ]
  },
  {
   "cell_type": "markdown",
   "metadata": {},
   "source": [
    "### Plot Lag Distributions (per subject)"
   ]
  },
  {
   "cell_type": "code",
   "execution_count": null,
   "metadata": {
    "collapsed": true
   },
   "outputs": [],
   "source": [
    "def dist_grid(data_1, data_2, data_3, subject_list, n_cols, title):\n",
    "    \"\"\"\n",
    "    For each subject, plot the distribution of 3 variables. Arrange subplots as a grid\n",
    "    \"\"\"\n",
    "    # Set up the grid\n",
    "    n_subs = len(subject_list)\n",
    "    n_rows = int(np.ceil(n_subs/(float(n_cols))))\n",
    "    \n",
    "    # Set up the plot axes\n",
    "    ax_idx_x= []\n",
    "    ax_idx_y= []\n",
    "    for idx_x in range(n_rows):\n",
    "        for idx_y in range(n_cols):\n",
    "            ax_idx_y.append(idx_y)\n",
    "            ax_idx_x.append(idx_x)\n",
    "            \n",
    "    # Define variable/color/label pairings\n",
    "    colors = ['orangered', 'darkorchid', 'deepskyblue']\n",
    "    labels = ['Baseline', 'Post 1', 'Post 2']\n",
    "    variables = zip([data_1, data_2, data_3], colors, labels)\n",
    "    \n",
    "    # Initialize the figure\n",
    "    f, axarr = plt.subplots(n_rows, n_cols, sharex=True, sharey=True, figsize=(13,2*n_rows))\n",
    "    \n",
    "    # Create a subplot for each subject\n",
    "    for idx, sub_id in enumerate(subject_list):\n",
    "        # Loop through variables\n",
    "        for var in variables:\n",
    "            sns.distplot(var[0][idx], kde=False, hist=True, color=var[1], norm_hist=True,\n",
    "                         ax=axarr[ax_idx_x[idx], ax_idx_y[idx]], label=var[2],\n",
    "                         hist_kws={'histtype': \"step\", 'alpha': 1, 'linewidth': 1})\n",
    "        axarr[ax_idx_x[idx], ax_idx_y[idx]].legend()\n",
    "        axarr[ax_idx_x[idx], ax_idx_y[idx]].set_yscale('log')\n",
    "        axarr[ax_idx_x[idx], ax_idx_y[idx]].set_title('Subject '+str(sub_id), fontsize=10)\n",
    "    plt.xlim(-10, 10)\n",
    "    plt.tight_layout()"
   ]
  },
  {
   "cell_type": "markdown",
   "metadata": {},
   "source": [
    "#### AiFO"
   ]
  },
  {
   "cell_type": "code",
   "execution_count": null,
   "metadata": {
    "collapsed": false,
    "scrolled": true
   },
   "outputs": [],
   "source": [
    "dist_grid(aifo_rest1_gm_data, aifo_rest2_gm_data, aifo_rest3_gm_data, subject_list, 3)\n",
    "plt.suptitle(\"Whole-Brain Lag Distribution (AiFO Stimulation)\", y=1.01, fontsize=18)"
   ]
  },
  {
   "cell_type": "markdown",
   "metadata": {},
   "source": [
    "#### dlPFC"
   ]
  },
  {
   "cell_type": "code",
   "execution_count": null,
   "metadata": {
    "collapsed": false,
    "scrolled": true
   },
   "outputs": [],
   "source": [
    "dist_grid(dlpfc_rest1_gm_data, dlpfc_rest2_gm_data, dlpfc_rest3_gm_data, subject_list, 3)\n",
    "plt.suptitle(\"Whole-Brain Lag Distribution (dlPFC Stimulation)\", y=1.01, fontsize=18)"
   ]
  },
  {
   "cell_type": "markdown",
   "metadata": {},
   "source": [
    "#### S1"
   ]
  },
  {
   "cell_type": "code",
   "execution_count": null,
   "metadata": {
    "collapsed": false,
    "scrolled": true
   },
   "outputs": [],
   "source": [
    "dist_grid(sham_rest1_gm_data, sham_rest2_gm_data, sham_rest3_gm_data, subject_list, 3)\n",
    "plt.suptitle(\"Whole-Brain Lag Distribution (S1 Stimulation)\", y=1.01, fontsize=18)"
   ]
  },
  {
   "cell_type": "markdown",
   "metadata": {},
   "source": [
    "### Plot changes in extreme leads/lags"
   ]
  },
  {
   "cell_type": "code",
   "execution_count": null,
   "metadata": {
    "collapsed": false
   },
   "outputs": [],
   "source": [
    "def count_extremes(sub_data, thresh):\n",
    "    n_nonzero = np.count_nonzero(sub_data)\n",
    "    n_greater = np.count_nonzero(sub_data <= -thresh)\n",
    "    n_lesser = np.count_nonzero(sub_data >= thresh)\n",
    "    pct_lead = np.true_divide(n_greater, n_nonzero)\n",
    "    pct_lag = np.true_divide(n_lesser, n_nonzero)\n",
    "    return pct_lead, pct_lag"
   ]
  },
  {
   "cell_type": "code",
   "execution_count": null,
   "metadata": {
    "collapsed": true
   },
   "outputs": [],
   "source": [
    "def compute_FD(file, units):\n",
    "    \"\"\"\n",
    "\n",
    "    :rtype: object\n",
    "    \"\"\"\n",
    "    import numpy as np\n",
    "\n",
    "    if units == 'radians' or units == 'Radians':\n",
    "        factor = 1\n",
    "    elif units == 'degrees' or units == 'Degrees':\n",
    "        factor = (np.pi / 180) * 50\n",
    "\n",
    "    MP = np.loadtxt(file)\n",
    "    AbsMotDiff = abs(np.diff(MP, axis=0))\n",
    "\n",
    "    Trans = AbsMotDiff[:, 0:3]\n",
    "    Rot = AbsMotDiff[:, 3:6]\n",
    "    FD = np.sum(Trans, axis=1) + np.sum(factor * Rot, axis=1)\n",
    "\n",
    "    return FD"
   ]
  },
  {
   "cell_type": "code",
   "execution_count": null,
   "metadata": {
    "collapsed": false
   },
   "outputs": [],
   "source": [
    "roi_list = ['aifo', 'dlpfc', 's1']\n",
    "scan_list = ['rest1', 'rest2', 'rest3']\n",
    "measures = ['pct_big_lead', 'pct_big_lag', 'pct_big_any', 'mean_fd', 'mean_lag']\n",
    "\n",
    "row_store = []\n",
    "for subject in subject_list:\n",
    "    for roi in roi_list:\n",
    "        for scan in scan_list:\n",
    "            for measure in measures:\n",
    "                row = [str(subject), roi, scan, measure]\n",
    "                row_store.append(row)\n",
    "\n",
    "dists_df_mindex = pd.MultiIndex.from_arrays(np.array(row_store).T, names=['sub_id', 'roi', 'scan', 'measure'])\n",
    "dists_dframe = pd.DataFrame(index=dists_df_mindex)\n",
    "dists_dframe['value'] = np.nan"
   ]
  },
  {
   "cell_type": "code",
   "execution_count": null,
   "metadata": {
    "collapsed": false
   },
   "outputs": [],
   "source": [
    "input_arrays =[[aifo_rest1_gm_data, 'aifo', 'rest1', 'Aifo', 'rest_1'],\n",
    "               [aifo_rest2_gm_data, 'aifo', 'rest2', 'Aifo', 'rest_2'],\n",
    "               [aifo_rest3_gm_data, 'aifo', 'rest3', 'Aifo', 'rest_3'],\n",
    "               [dlpfc_rest1_gm_data, 'dlpfc', 'rest1', 'Dlpfc', 'rest_1'],\n",
    "               [dlpfc_rest2_gm_data, 'dlpfc', 'rest2', 'Dlpfc', 'rest_2'],\n",
    "               [dlpfc_rest3_gm_data, 'dlpfc', 'rest3', 'Dlpfc', 'rest_3'],\n",
    "               [sham_rest1_gm_data, 's1', 'rest1', 'Sham', 'rest_1'],\n",
    "               [sham_rest2_gm_data, 's1', 'rest2', 'Sham', 'rest_2'],\n",
    "               [sham_rest3_gm_data, 's1', 'rest3', 'Sham', 'rest_3']]\n",
    "\n",
    "for sub_array in input_arrays:\n",
    "    data_array = sub_array[0]\n",
    "    roi = sub_array[1]\n",
    "    scan = sub_array[2]\n",
    "    condition = sub_array[3]\n",
    "    scan_name = sub_array[4]\n",
    "    for idx, sub_id in enumerate(subject_list):\n",
    "        sub_id = str(sub_id)\n",
    "        counts = count_extremes(data_array[idx], 1)\n",
    "        dists_dframe.ix[sub_id, roi, scan, 'pct_big_lead'] = counts[0]\n",
    "        dists_dframe.ix[sub_id, roi, scan, 'pct_big_lag'] = counts[1]\n",
    "        dists_dframe.ix[sub_id, roi, scan, 'pct_big_any'] = counts[0] + counts[1]\n",
    "        scan_fd_array = compute_FD('/home/despo/dlurie/Projects/megarest_lag/data/sub{0}/{1}/sub{0}_{1}_{2}_motion_params.txt'.format(sub_id, condition, scan_name), 'degrees')\n",
    "        dists_dframe.ix[sub_id, roi, scan, 'mean_fd'] = np.mean(scan_fd_array)\n",
    "        dists_dframe.ix[sub_id, roi, scan, 'mean_lag'] = np.mean(data_array[idx])"
   ]
  },
  {
   "cell_type": "code",
   "execution_count": null,
   "metadata": {
    "collapsed": false
   },
   "outputs": [],
   "source": [
    "dists_dflat = dists_dframe.reset_index()\n",
    "dists_df_leads = dists_dflat[dists_dflat['measure'] == 'pct_big_lead']\n",
    "dists_df_lags = dists_dflat[dists_dflat['measure'] == 'pct_big_lag']\n",
    "dists_df_any = dists_dflat[dists_dflat['measure'] == 'pct_big_any']\n",
    "dists_df_fd = dists_dflat[dists_dflat['measure'] == 'mean_fd']\n",
    "dists_df_mean = dists_dflat[dists_dflat['measure'] == 'mean_lag']"
   ]
  },
  {
   "cell_type": "code",
   "execution_count": null,
   "metadata": {
    "collapsed": true
   },
   "outputs": [],
   "source": [
    "g = sns.FacetGrid(dists_df_mean, col=\"roi\", size=3, aspect=1, legend_out=False)\n",
    "g.map(sns.swarmplot, \"scan\", \"value\", palette=\"Set2\");\n",
    "g.add_legend()\n",
    "g.set_ylabels('Mean lag')"
   ]
  },
  {
   "cell_type": "code",
   "execution_count": null,
   "metadata": {
    "collapsed": false
   },
   "outputs": [],
   "source": [
    "stats.f_oneway(dists_df_mean[(dists_df_mean['scan']=='rest1') & (dists_df_mean['roi']=='aifo')]['value'],\n",
    "               dists_df_mean[(dists_df_mean['scan']=='rest2') & (dists_df_mean['roi']=='aifo')]['value'],\n",
    "               dists_df_mean[(dists_df_mean['scan']=='rest3') & (dists_df_mean['roi']=='aifo')]['value'])"
   ]
  },
  {
   "cell_type": "code",
   "execution_count": null,
   "metadata": {
    "collapsed": true
   },
   "outputs": [],
   "source": [
    "g = sns.FacetGrid(dists_df_mean, col=\"sub_id\", size=2.7, aspect=.5, col_wrap=9, legend_out=False)\n",
    "g.map(sns.pointplot, \"scan\", \"value\", 'roi', palette=\"Set2\");\n",
    "g.add_legend()\n",
    "g.set_ylabels('Mean lag')"
   ]
  },
  {
   "cell_type": "markdown",
   "metadata": {},
   "source": [
    "#### Percent of voxels with lead > 2s"
   ]
  },
  {
   "cell_type": "code",
   "execution_count": null,
   "metadata": {
    "collapsed": true
   },
   "outputs": [],
   "source": [
    "g = sns.FacetGrid(dists_df_leads, col=\"roi\", size=3, aspect=1, legend_out=False)\n",
    "g.map(sns.swarmplot, \"scan\", \"value\", palette=\"Set2\");\n",
    "g.add_legend()\n",
    "g.set_ylabels('% vox w/ lead > 2s')"
   ]
  },
  {
   "cell_type": "code",
   "execution_count": null,
   "metadata": {
    "collapsed": false
   },
   "outputs": [],
   "source": [
    "stats.f_oneway(dists_df_leads[(dists_df_leads['scan']=='rest1') & (dists_df_leads['roi']=='aifo')]['value'],\n",
    "               dists_df_leads[(dists_df_leads['scan']=='rest2') & (dists_df_leads['roi']=='aifo')]['value'],\n",
    "               dists_df_leads[(dists_df_leads['scan']=='rest3') & (dists_df_leads['roi']=='aifo')]['value'])"
   ]
  },
  {
   "cell_type": "code",
   "execution_count": null,
   "metadata": {
    "collapsed": true
   },
   "outputs": [],
   "source": [
    "g = sns.FacetGrid(dists_df_leads, col=\"sub_id\", size=3, aspect=1, col_wrap=4, legend_out=False)\n",
    "g.map(sns.pointplot, \"scan\", \"value\", 'roi', palette=\"Set2\");\n",
    "g.add_legend()"
   ]
  },
  {
   "cell_type": "markdown",
   "metadata": {},
   "source": [
    "#### Percent of voxels with lags > 2s"
   ]
  },
  {
   "cell_type": "code",
   "execution_count": null,
   "metadata": {
    "collapsed": false,
    "scrolled": true
   },
   "outputs": [],
   "source": [
    "g = sns.FacetGrid(dists_df_lags, col=\"roi\", size=3, aspect=1, legend_out=False)\n",
    "g.map(sns.swarmplot, \"scan\", \"value\", palette=\"Set2\");\n",
    "g.add_legend()"
   ]
  },
  {
   "cell_type": "code",
   "execution_count": null,
   "metadata": {
    "collapsed": false
   },
   "outputs": [],
   "source": [
    "stats.f_oneway(dists_df_lags[(dists_df_lags['scan']=='rest1') & (dists_df_lags['roi']=='aifo')]['value'],\n",
    "               dists_df_lags[(dists_df_lags['scan']=='rest2') & (dists_df_lags['roi']=='aifo')]['value'],\n",
    "               dists_df_lags[(dists_df_lags['scan']=='rest3') & (dists_df_lags['roi']=='aifo')]['value'])"
   ]
  },
  {
   "cell_type": "code",
   "execution_count": null,
   "metadata": {
    "collapsed": false,
    "scrolled": true
   },
   "outputs": [],
   "source": [
    "g = sns.FacetGrid(dists_df_lags, col=\"sub_id\", size=3, aspect=1, col_wrap=4, legend_out=False)\n",
    "g.map(sns.pointplot, \"scan\", \"value\", 'roi', palette=\"Set2\");\n",
    "g.add_legend()"
   ]
  },
  {
   "cell_type": "markdown",
   "metadata": {},
   "source": [
    "#### Percent of voxels with leads or lags > 2s"
   ]
  },
  {
   "cell_type": "code",
   "execution_count": null,
   "metadata": {
    "collapsed": false,
    "scrolled": true
   },
   "outputs": [],
   "source": [
    "g = sns.FacetGrid(dists_df_any, col=\"roi\", size=3, aspect=1, legend_out=False)\n",
    "g.map(sns.swarmplot, \"scan\", \"value\", palette=\"Set2\");\n",
    "g.add_legend()\n",
    "g.set_ylabels('% vox w/ lead or lag > 2s')"
   ]
  },
  {
   "cell_type": "code",
   "execution_count": null,
   "metadata": {
    "collapsed": false
   },
   "outputs": [],
   "source": [
    "stats.f_oneway(dists_df_any[(dists_df_any['scan']=='rest1') & (dists_df_any['roi']=='aifo')]['value'],\n",
    "               dists_df_any[(dists_df_any['scan']=='rest2') & (dists_df_any['roi']=='aifo')]['value'],\n",
    "               dists_df_any[(dists_df_any['scan']=='rest3') & (dists_df_any['roi']=='aifo')]['value'])"
   ]
  },
  {
   "cell_type": "code",
   "execution_count": null,
   "metadata": {
    "collapsed": false,
    "scrolled": true
   },
   "outputs": [],
   "source": [
    "g = sns.FacetGrid(dists_df_any, col=\"sub_id\", size=2.7, aspect=.5, col_wrap=9, legend_out=False)\n",
    "g.map(sns.pointplot, \"scan\", \"value\", 'roi', palette=\"Set2\");\n",
    "g.add_legend()\n",
    "g.set_ylabels('% vox w/ lead or lag > 2s')"
   ]
  },
  {
   "cell_type": "code",
   "execution_count": null,
   "metadata": {
    "collapsed": false,
    "scrolled": true
   },
   "outputs": [],
   "source": [
    "print(str(stats.pearsonr(dists_df_fd['value'], dists_df_any['value'])))\n",
    "sns.regplot(dists_df_fd['value'], dists_df_any['value'])\n",
    "plt.xlabel('Mean FD')\n",
    "plt.ylabel('% voxels > +/- 2s')"
   ]
  },
  {
   "cell_type": "code",
   "execution_count": null,
   "metadata": {
    "collapsed": false,
    "scrolled": true
   },
   "outputs": [],
   "source": [
    "sns.regplot(dists_df_fd['value'], dists_df_mean['value'], fit_reg=True)\n",
    "plt.xlabel('Mean FD')\n",
    "plt.ylabel('Mean Lag')"
   ]
  },
  {
   "cell_type": "markdown",
   "metadata": {},
   "source": [
    "### TMS ROI Analysis"
   ]
  },
  {
   "cell_type": "code",
   "execution_count": null,
   "metadata": {
    "collapsed": true
   },
   "outputs": [],
   "source": [
    "def resample_rois(condition_4d, condition_roi_paths):\n",
    "    out_4d = []\n",
    "    for idx, sub_img in enumerate(condition_4d):\n",
    "        roi_path = condition_roi_paths[idx]\n",
    "        roi_img = image.smooth_img(roi_path, None)\n",
    "        roi_img_resampled = image.resample_to_img(roi_img, sub_img, interpolation='nearest')\n",
    "        out_4d.append(roi_img_resampled)\n",
    "    return out_4d"
   ]
  },
  {
   "cell_type": "code",
   "execution_count": null,
   "metadata": {
    "collapsed": true
   },
   "outputs": [],
   "source": [
    "aifo_roi_paths = sorted(glob.glob('/home/despo/dlurie/Projects/megarest_lag/data/sub*/Aifo/sub*_Aifo_roi.nii.gz'))\n",
    "dlpfc_roi_paths = sorted(glob.glob('/home/despo/dlurie/Projects/megarest_lag/data/sub*/Dlpfc/sub*_Dlpfc_roi.nii.gz'))\n",
    "s1_roi_paths = sorted(glob.glob('/home/despo/dlurie/Projects/megarest_lag/data/sub*/Sham/sub*_S1_L_roi.nii.gz'))"
   ]
  },
  {
   "cell_type": "code",
   "execution_count": null,
   "metadata": {
    "collapsed": true
   },
   "outputs": [],
   "source": [
    "roi_imgs = {}\n",
    "for region in [('aifo', aifo_roi_paths), ('dlpfs', dplfc_roi_paths), ('s1', s1_roi_paths)]:\n",
    "    "
   ]
  },
  {
   "cell_type": "code",
   "execution_count": null,
   "metadata": {
    "collapsed": false
   },
   "outputs": [],
   "source": [
    "aifo_resampled_rois = resample_rois(aifo_rest1_minimal_4d, aifo_roi_paths)\n",
    "dlpfc_resampled_rois = resample_rois(dlpfc_rest1_minimal_4d, dlpfc_roi_paths)\n",
    "sham_resampled_rois = resample_rois(sham_rest1_minimal_4d, sham_roi_paths)"
   ]
  },
  {
   "cell_type": "code",
   "execution_count": null,
   "metadata": {
    "collapsed": false
   },
   "outputs": [],
   "source": [
    "tms_rois = ['aifo_tms', 'dlfpc_tms', 's1_tms']\n",
    "cbf_rois = ['aifo_cbf', 'dlpfc_cbf', 's1_cbf']\n",
    "cbf_cols = ['_'.join(i) for i in list(itertools.product(tms_rois, cbf_rois))]\n",
    "cbf_cols = ['sub_id'] + cbf_cols"
   ]
  },
  {
   "cell_type": "code",
   "execution_count": null,
   "metadata": {
    "collapsed": false
   },
   "outputs": [],
   "source": [
    "cbf_data_fpt = '/home/despo/cgratton/data/MegaRest.TMS/Data/ASLdata/global_norm/Alldata_undercoil_CBFmean_spss_{}.txt'\n",
    "cbf_data = {'baseline': 'pre', 'post1': 'post1', 'post2': 'post2'}\n",
    "for k, v in cbf_data.iteritems():\n",
    "    suffix = v\n",
    "    cbf_data[k] = pd.read_csv(cbf_data_fpt.format(suffix), sep='\\t', usecols=range(0,10),\n",
    "                          index_col=0, names=cbf_cols, header=0)"
   ]
  },
  {
   "cell_type": "code",
   "execution_count": null,
   "metadata": {
    "collapsed": false,
    "scrolled": false
   },
   "outputs": [],
   "source": [
    "roi_list = ['aifo', 'dlpfc', 's1']\n",
    "scan_list = ['baseline', 'post1', 'post2']\n",
    "measures = ['mean_lag', 'mean_cbf']\n",
    "\n",
    "under_coil_ix_rows = [list(i) for i in itertools.product(subject_list, roi_list, scan_list, roi_list, measures)]\n",
    "\n",
    "under_coil_mindex = pd.MultiIndex.from_arrays(np.array(under_coil_mindex).T,\n",
    "                                           names=['sub_id', 'stim_roi', 'scan','data_roi', 'measure'])\n",
    "under_coil_df = pd.DataFrame(index=under_coil_mindex)\n",
    "under_coil_df['value'] = np.nan"
   ]
  },
  {
   "cell_type": "code",
   "execution_count": null,
   "metadata": {
    "collapsed": false,
    "scrolled": true
   },
   "outputs": [],
   "source": [
    "under_coil_df"
   ]
  },
  {
   "cell_type": "code",
   "execution_count": null,
   "metadata": {
    "collapsed": true
   },
   "outputs": [],
   "source": [
    "for idx, sub_id in enumerate(subject_list):\n",
    "        sub_id = str(sub_id)\n",
    "   \n",
    "\n",
    "aifo/dlpfc/s1, rest_1/2/3, afio/dlpfc/s1, "
   ]
  },
  {
   "cell_type": "code",
   "execution_count": null,
   "metadata": {
    "collapsed": false
   },
   "outputs": [],
   "source": [
    "\n",
    "\n",
    "for i in itertools.product(['aifo_tms_baseline', 'aifo_tms_post1', 'aifo_tms_post2'],\n",
    "                           ['aifo_rois_resampled', 'dlpfc_rois_resampled', 's1_rois_resampled'],\n",
    "                           ['aifo', 'dlpfc', 's1'], ['baseline', 'post1', 'post2']):\n",
    "    print i"
   ]
  },
  {
   "cell_type": "code",
   "execution_count": null,
   "metadata": {
    "collapsed": false
   },
   "outputs": [],
   "source": [
    "input_arrays =[[aifo_rest1_minimal_4d, aifo_resampled_rois, 'aifo', 'rest1'],\n",
    "               [aifo_rest2_minimal_4d, aifo_resampled_rois, 'aifo', 'rest2'],\n",
    "               [aifo_rest3_minimal_4d, aifo_resampled_rois, 'aifo', 'rest3'],\n",
    "               [dlpfc_rest1_minimal_4d, dlpfc_resampled_rois, 'dlpfc', 'rest1'],\n",
    "               [dlpfc_rest2_minimal_4d, dlpfc_resampled_rois, 'dlpfc', 'rest2'],\n",
    "               [dlpfc_rest3_minimal_4d, dlpfc_resampled_rois, 'dlpfc', 'rest3'],\n",
    "               [sham_rest1_minimal_4d, sham_resampled_rois, 's1', 'rest1'],\n",
    "               [sham_rest2_minimal_4d, sham_resampled_rois, 's1', 'rest2'],\n",
    "               [sham_rest3_minimal_4d, sham_resampled_rois, 's1', 'rest3']]\n",
    "\n",
    "for sub_array in input_arrays:\n",
    "    img_array = sub_array[0]\n",
    "    roi_array = sub_array[1]\n",
    "    roi = sub_array[2]\n",
    "    scan = sub_array[3]\n",
    "    for idx, sub_id in enumerate(subject_list):\n",
    "        sub_id = str(sub_id)\n",
    "        masked_data = masking.apply_mask(img_array[idx], roi_array[idx])\n",
    "        rois_dframe.ix[sub_id, roi, scan, 'mean_lag'] = np.mean(masked_data)"
   ]
  },
  {
   "cell_type": "code",
   "execution_count": null,
   "metadata": {
    "collapsed": true
   },
   "outputs": [],
   "source": [
    "input_arrays = [[cbf_pre_df, 'rest1'],\n",
    "                [cbf_post1_df, 'rest2'],\n",
    "                [cbf_post2_df, 'rest3']]\n",
    "\n",
    "for sub_array in input_arrays:\n",
    "    cbf_df = sub_array[0]\n",
    "    scan = sub_array[1]\n",
    "    for sub_id in subject_list:\n",
    "        sub_id = str(sub_id)\n",
    "        for roi in [('aifo', 'aifo'), ('dlpfc', 'dlpfc'), ('sham', 's1')]:\n",
    "            col = '{0}tms_{1}cbf'.format(roi[0], roi[1])\n",
    "            val = cbf_df.loc[sub_id, col]\n",
    "            rois_dframe.ix[sub_id, roi[1], scan, 'mean_cbf'] = float(val)"
   ]
  },
  {
   "cell_type": "code",
   "execution_count": null,
   "metadata": {
    "collapsed": true
   },
   "outputs": [],
   "source": [
    "rois_dflat = rois_dframe.reset_index()\n",
    "rois_dflat_cbf_all = rois_dflat[rois_dflat['measure'] == 'mean_cbf']\n",
    "rois_dflat_lag_all = rois_dflat[rois_dflat['measure'] == 'mean_lag']\n",
    "rois_dflat_cbf_pre = rois_dflat[(rois_dflat['measure'] == 'mean_cbf') & (rois_dflat['scan'] == 'rest1')]\n",
    "rois_dflat_lag_pre = rois_dflat[(rois_dflat['measure'] == 'mean_lag') & (rois_dflat['scan'] == 'rest1')]\n",
    "rois_dflat_cbf_post = rois_dflat[(rois_dflat['measure'] == 'mean_cbf') & (rois_dflat['scan'] == 'rest2')]\n",
    "rois_dflat_lag_post = rois_dflat[(rois_dflat['measure'] == 'mean_lag') & (rois_dflat['scan'] == 'rest2')]\n",
    "rois_dflat_cbf_dlpfc = rois_dflat[(rois_dflat['measure'] == 'mean_cbf') & (rois_dflat['roi'] == 'dlpfc')]\n",
    "rois_dflat_lag_dlpfc = rois_dflat[(rois_dflat['measure'] == 'mean_lag') & (rois_dflat['roi'] == 'dlpfc')]"
   ]
  },
  {
   "cell_type": "code",
   "execution_count": null,
   "metadata": {
    "collapsed": false
   },
   "outputs": [],
   "source": [
    "cbf_diff = np.subtract(rois_dflat_cbf_post['value'], rois_dflat_cbf_pre['value'])"
   ]
  },
  {
   "cell_type": "code",
   "execution_count": null,
   "metadata": {
    "collapsed": true
   },
   "outputs": [],
   "source": [
    "lag_diff = np.subtract(rois_dflat_lag_post['value'], rois_dflat_lag_pre['value'])"
   ]
  },
  {
   "cell_type": "code",
   "execution_count": null,
   "metadata": {
    "collapsed": false
   },
   "outputs": [],
   "source": [
    "cbf_lower = (cbf_diff <=0).values"
   ]
  },
  {
   "cell_type": "code",
   "execution_count": null,
   "metadata": {
    "collapsed": false
   },
   "outputs": [],
   "source": [
    "cbf_lower"
   ]
  },
  {
   "cell_type": "code",
   "execution_count": null,
   "metadata": {
    "collapsed": false
   },
   "outputs": [],
   "source": [
    "foo = cbf_diff[cbf_lower].values"
   ]
  },
  {
   "cell_type": "code",
   "execution_count": null,
   "metadata": {
    "collapsed": false
   },
   "outputs": [],
   "source": [
    "bar = lag_diff[cbf_lower].values"
   ]
  },
  {
   "cell_type": "code",
   "execution_count": null,
   "metadata": {
    "collapsed": false
   },
   "outputs": [],
   "source": [
    "print(str(stats.pearsonr(foo, bar)))\n",
    "sns.regplot(foo, bar)\n",
    "plt.xlabel('Change in CBF at ROI')\n",
    "plt.ylabel('Change in Lag at ROI')"
   ]
  },
  {
   "cell_type": "code",
   "execution_count": null,
   "metadata": {
    "collapsed": false,
    "scrolled": false
   },
   "outputs": [],
   "source": [
    "print(str(stats.pearsonr(np.absolute(cbf_diff), np.absolute(lag_diff))))\n",
    "sns.regplot(np.absolute(cbf_diff), np.absolute(lag_diff))\n",
    "plt.xlabel('Change in CBF at ROI')\n",
    "plt.ylabel('Change in Lag at ROI')"
   ]
  },
  {
   "cell_type": "code",
   "execution_count": null,
   "metadata": {
    "collapsed": false,
    "scrolled": true
   },
   "outputs": [],
   "source": [
    "sns.regplot(dists_df_fd['value'], dists_df_any['value'])\n",
    "plt.xlabel('Mean FD')\n",
    "plt.ylabel('% voxels > +/- 2s')"
   ]
  },
  {
   "cell_type": "code",
   "execution_count": null,
   "metadata": {
    "collapsed": false,
    "scrolled": true
   },
   "outputs": [],
   "source": [
    "g = sns.FacetGrid(rois_dflat_lag, col=\"roi\", size=3, aspect=1, legend_out=False)\n",
    "g.map(sns.swarmplot, \"scan\", \"value\", palette=\"Set2\");\n",
    "g.add_legend()\n",
    "g.set_ylabels('Mean lag within ROI')"
   ]
  },
  {
   "cell_type": "code",
   "execution_count": null,
   "metadata": {
    "collapsed": false
   },
   "outputs": [],
   "source": [
    "g = sns.FacetGrid(rois_dflat_cbf_all, col=\"roi\", size=3, aspect=1, legend_out=False)\n",
    "g.map(sns.swarmplot, \"scan\", \"value\", palette=\"Set2\");\n",
    "g.add_legend()\n",
    "g.set_ylabels('Mean CBF within ROI')"
   ]
  },
  {
   "cell_type": "code",
   "execution_count": null,
   "metadata": {
    "collapsed": false,
    "scrolled": true
   },
   "outputs": [],
   "source": [
    "print(str(stats.pearsonr(rois_dflat_cbf_all['value'], rois_dflat_lag_all['value'])))\n",
    "sns.regplot(rois_dflat_cbf_all['value'], rois_dflat_lag_all['value'])\n",
    "plt.xlabel('Mean CBF at ROI')\n",
    "plt.ylabel('Mean Lag at ROI')"
   ]
  },
  {
   "cell_type": "code",
   "execution_count": null,
   "metadata": {
    "collapsed": false,
    "scrolled": true
   },
   "outputs": [],
   "source": [
    "print(str(stats.pearsonr(rois_dflat_cbf_pre['value'], rois_dflat_lag_pre['value'])))\n",
    "sns.regplot(rois_dflat_cbf_pre['value'], rois_dflat_lag_pre['value'])\n",
    "plt.xlabel('Mean CBF at ROI')\n",
    "plt.ylabel('Mean Lag at ROI')"
   ]
  },
  {
   "cell_type": "code",
   "execution_count": null,
   "metadata": {
    "collapsed": false,
    "scrolled": true
   },
   "outputs": [],
   "source": [
    "print(str(stats.pearsonr(rois_dflat_cbf_dlpfc['value'], rois_dflat_lag_dlpfc['value'])))\n",
    "sns.regplot(rois_dflat_cbf_dlpfc['value'], rois_dflat_lag_dlpfc['value'])\n",
    "plt.xlabel('Mean CBF at ROI')\n",
    "plt.ylabel('Mean Lag at ROI')"
   ]
  },
  {
   "cell_type": "code",
   "execution_count": null,
   "metadata": {
    "collapsed": false,
    "scrolled": true
   },
   "outputs": [],
   "source": [
    "g = sns.FacetGrid(rois_dflat_cbf, col=\"sub_id\", size=2.7, aspect=.5, col_wrap=9, legend_out=False)\n",
    "g.map(sns.pointplot, \"scan\", \"value\", 'roi', linewidth=5, palette=\"Set2\",);\n",
    "g.add_legend()\n",
    "g.set_ylabels('Mean lag within ROI')"
   ]
  },
  {
   "cell_type": "code",
   "execution_count": null,
   "metadata": {
    "collapsed": false
   },
   "outputs": [],
   "source": [
    "sns.set_context(rc={\"lines.linewidth\": 0.75})"
   ]
  },
  {
   "cell_type": "code",
   "execution_count": null,
   "metadata": {
    "collapsed": false,
    "scrolled": true
   },
   "outputs": [],
   "source": [
    "g = sns.FacetGrid(rois_dflat, col=\"sub_id\", size=2.7, aspect=.5, col_wrap=9, legend_out=False)\n",
    "g.map(sns.pointplot, \"scan\", \"mean_lag_at_roi\", 'roi', linewidth=5, palette=\"Set2\",);\n",
    "g.add_legend()\n",
    "g.set_ylabels('Mean lag within ROI')"
   ]
  },
  {
   "cell_type": "markdown",
   "metadata": {},
   "source": [
    "### Load and resample CBF images."
   ]
  },
  {
   "cell_type": "code",
   "execution_count": null,
   "metadata": {
    "collapsed": false
   },
   "outputs": [],
   "source": [
    "aifo_rest1_mean_cbf_paths = ['/home/despo/cgratton/data/MegaRest.TMS/Data/{}_Aifo/Analysis/ASL_new/Block01/mask_files/norm_scCBF_timeseries_mask.nii.gz'.format(str(sub_id)) for sub_id in subject_list]\n",
    "aifo_rest2_mean_cbf_paths = ['/home/despo/cgratton/data/MegaRest.TMS/Data/{}_Aifo/Analysis/ASL_new/Block02/mask_files/norm_scCBF_timeseries_mask.nii.gz'.format(str(sub_id)) for sub_id in subject_list]\n",
    "aifo_rest3_mean_cbf_paths = ['/home/despo/cgratton/data/MegaRest.TMS/Data/{}_Aifo/Analysis/ASL_new/Block03/mask_files/norm_scCBF_timeseries_mask.nii.gz'.format(str(sub_id)) for sub_id in subject_list]\n",
    "\n",
    "dlpfc_rest1_mean_cbf_paths = ['/home/despo/cgratton/data/MegaRest.TMS/Data/{}_Dlpfc/Analysis/ASL_new/Block01/mask_files/norm_scCBF_timeseries_mask.nii.gz'.format(str(sub_id)) for sub_id in subject_list]\n",
    "dlpfc_rest2_mean_cbf_paths = ['/home/despo/cgratton/data/MegaRest.TMS/Data/{}_Dlpfc/Analysis/ASL_new/Block02/mask_files/norm_scCBF_timeseries_mask.nii.gz'.format(str(sub_id)) for sub_id in subject_list]\n",
    "dlpfc_rest3_mean_cbf_paths = ['/home/despo/cgratton/data/MegaRest.TMS/Data/{}_Dlpfc/Analysis/ASL_new/Block03/mask_files/norm_scCBF_timeseries_mask.nii.gz'.format(str(sub_id)) for sub_id in subject_list]\n",
    "\n",
    "sham_rest1_mean_cbf_paths = ['/home/despo/cgratton/data/MegaRest.TMS/Data/{}_Sham/Analysis/ASL_new/Block01/mask_files/norm_scCBF_timeseries_mask.nii.gz'.format(str(sub_id)) for sub_id in subject_list]\n",
    "sham_rest2_mean_cbf_paths = ['/home/despo/cgratton/data/MegaRest.TMS/Data/{}_Sham/Analysis/ASL_new/Block02/mask_files/norm_scCBF_timeseries_mask.nii.gz'.format(str(sub_id)) for sub_id in subject_list]\n",
    "sham_rest3_mean_cbf_paths = ['/home/despo/cgratton/data/MegaRest.TMS/Data/{}_Sham/Analysis/ASL_new/Block03/mask_files/norm_scCBF_timeseries_mask.nii.gz'.format(str(sub_id)) for sub_id in subject_list]"
   ]
  },
  {
   "cell_type": "markdown",
   "metadata": {
    "collapsed": false
   },
   "source": [
    "### Check for motion confound"
   ]
  },
  {
   "cell_type": "code",
   "execution_count": null,
   "metadata": {
    "collapsed": false
   },
   "outputs": [],
   "source": [
    "sub101_fd = compute_FD('/home/despo/dlurie/Projects/megarest_lag/data/sub102/Aifo/sub102_Aifo_rest_1_motion_params.txt', 'degrees')"
   ]
  },
  {
   "cell_type": "code",
   "execution_count": null,
   "metadata": {
    "collapsed": false
   },
   "outputs": [],
   "source": [
    "np.mean(sub101_fd)"
   ]
  },
  {
   "cell_type": "code",
   "execution_count": null,
   "metadata": {
    "collapsed": false
   },
   "outputs": [],
   "source": [
    "mp_test['Dmotion'][0][0].shape"
   ]
  },
  {
   "cell_type": "code",
   "execution_count": null,
   "metadata": {
    "collapsed": false
   },
   "outputs": [],
   "source": [
    "mp_test.keys()"
   ]
  },
  {
   "cell_type": "code",
   "execution_count": null,
   "metadata": {
    "collapsed": false
   },
   "outputs": [],
   "source": [
    "np.io.('/home/despo/arielle/megarest_sc/data/motion_params/101/motion_info_Aifo_FD_thr0.2.mat')"
   ]
  },
  {
   "cell_type": "code",
   "execution_count": null,
   "metadata": {
    "collapsed": false
   },
   "outputs": [],
   "source": [
    "plotting.plot_stat_map('/home/despo/dlurie/Projects/megarest_lag/analysis/sub110/Aifo/sub110_Aifo_minimal_r2minusr1_diffmap_smoothed5.nii.gz'\n",
    "                       , bg_img=None, display_mode='z', black_bg=True)"
   ]
  },
  {
   "cell_type": "code",
   "execution_count": null,
   "metadata": {
    "collapsed": true
   },
   "outputs": [],
   "source": []
  }
 ],
 "metadata": {
  "kernelspec": {
   "display_name": "Python [Root]",
   "language": "python",
   "name": "Python [Root]"
  },
  "language_info": {
   "codemirror_mode": {
    "name": "ipython",
    "version": 2
   },
   "file_extension": ".py",
   "mimetype": "text/x-python",
   "name": "python",
   "nbconvert_exporter": "python",
   "pygments_lexer": "ipython2",
   "version": "2.7.12"
  }
 },
 "nbformat": 4,
 "nbformat_minor": 0
}
